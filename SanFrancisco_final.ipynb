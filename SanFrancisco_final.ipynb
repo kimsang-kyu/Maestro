{
 "cells": [
  {
   "cell_type": "markdown",
   "metadata": {},
   "source": [
    "# used import"
   ]
  },
  {
   "cell_type": "code",
   "execution_count": 162,
   "metadata": {},
   "outputs": [
    {
     "name": "stdout",
     "output_type": "stream",
     "text": [
      "Requirement already satisfied: lightgbm in c:\\users\\waiti\\anaconda3\\lib\\site-packages (2.3.1)\n",
      "Requirement already satisfied: scikit-learn in c:\\users\\waiti\\anaconda3\\lib\\site-packages (from lightgbm) (0.22.1)\n",
      "Requirement already satisfied: numpy in c:\\users\\waiti\\anaconda3\\lib\\site-packages (from lightgbm) (1.18.1)\n",
      "Requirement already satisfied: scipy in c:\\users\\waiti\\anaconda3\\lib\\site-packages (from lightgbm) (1.4.1)\n",
      "Requirement already satisfied: joblib>=0.11 in c:\\users\\waiti\\anaconda3\\lib\\site-packages (from scikit-learn->lightgbm) (0.14.1)\n",
      "Note: you may need to restart the kernel to use updated packages.\n"
     ]
    }
   ],
   "source": [
    "pip install lightgbm"
   ]
  },
  {
   "cell_type": "markdown",
   "metadata": {},
   "source": [
    "lightgbm을 사용하기 위하여 모듈을 설치"
   ]
  },
  {
   "cell_type": "code",
   "execution_count": 12,
   "metadata": {},
   "outputs": [],
   "source": [
    "import pandas as pd\n",
    "from sklearn.model_selection import train_test_split \n",
    "from sklearn.preprocessing import MinMaxScaler  #scaling\n",
    "import numpy as np \n",
    "import matplotlib.pylab as plt\n",
    "import time\n",
    "from sklearn.model_selection import GridSearchCV\n",
    "from lightgbm import LGBMClassifier \n",
    "import catboost\n",
    "\n",
    "from sklearn.preprocessing import LabelEncoder\n",
    "from sklearn.preprocessing import OneHotEncoder\n",
    "from keras.utils import np_utils"
   ]
  },
  {
   "cell_type": "code",
   "execution_count": 39,
   "metadata": {},
   "outputs": [],
   "source": [
    "import xgboost as xgb\n",
    "from xgboost import plot_importance"
   ]
  },
  {
   "cell_type": "code",
   "execution_count": 43,
   "metadata": {},
   "outputs": [],
   "source": [
    "from sklearn.metrics import classification_report"
   ]
  },
  {
   "cell_type": "markdown",
   "metadata": {},
   "source": [
    "# data load"
   ]
  },
  {
   "cell_type": "code",
   "execution_count": 13,
   "metadata": {},
   "outputs": [],
   "source": [
    "data=pd.read_csv('C:/Users/CPB06GameN/train.csv',parse_dates=['Dates'])\n",
    "data['Year']=data['Dates'].dt.year\n",
    "data['Month']=data['Dates'].dt.month\n",
    "data['Hour']=data['Dates'].dt.hour\n",
    "data['Minute']=data['Dates'].dt.minute"
   ]
  },
  {
   "cell_type": "markdown",
   "metadata": {},
   "source": [
    "Dates에서 Year, Month, Hour, Minute를 뽑아서 변수로 추가 생성"
   ]
  },
  {
   "cell_type": "code",
   "execution_count": 14,
   "metadata": {},
   "outputs": [
    {
     "name": "stdout",
     "output_type": "stream",
     "text": [
      "<class 'pandas.core.frame.DataFrame'>\n",
      "RangeIndex: 878049 entries, 0 to 878048\n",
      "Data columns (total 13 columns):\n",
      " #   Column      Non-Null Count   Dtype         \n",
      "---  ------      --------------   -----         \n",
      " 0   Dates       878049 non-null  datetime64[ns]\n",
      " 1   Category    878049 non-null  object        \n",
      " 2   Descript    878049 non-null  object        \n",
      " 3   DayOfWeek   878049 non-null  object        \n",
      " 4   PdDistrict  878049 non-null  object        \n",
      " 5   Resolution  878049 non-null  object        \n",
      " 6   Address     878049 non-null  object        \n",
      " 7   X           878049 non-null  float64       \n",
      " 8   Y           878049 non-null  float64       \n",
      " 9   Year        878049 non-null  int64         \n",
      " 10  Month       878049 non-null  int64         \n",
      " 11  Hour        878049 non-null  int64         \n",
      " 12  Minute      878049 non-null  int64         \n",
      "dtypes: datetime64[ns](1), float64(2), int64(4), object(6)\n",
      "memory usage: 87.1+ MB\n"
     ]
    }
   ],
   "source": [
    "#basic information\n",
    "data.info()"
   ]
  },
  {
   "cell_type": "markdown",
   "metadata": {},
   "source": [
    "- datetime : 1\n",
    "- Category : 6\n",
    "- float : 2\n",
    "- int : 4"
   ]
  },
  {
   "cell_type": "code",
   "execution_count": 15,
   "metadata": {},
   "outputs": [
    {
     "name": "stdout",
     "output_type": "stream",
     "text": [
      "The shape of data is: (878049, 13)\n"
     ]
    }
   ],
   "source": [
    "#data shape\n",
    "print('The shape of data is:',data.shape)"
   ]
  },
  {
   "cell_type": "markdown",
   "metadata": {},
   "source": [
    "878049개의 행과 13개의 변수를 가지고 있다."
   ]
  },
  {
   "cell_type": "code",
   "execution_count": 16,
   "metadata": {},
   "outputs": [
    {
     "data": {
      "text/plain": [
       "Index([], dtype='object')"
      ]
     },
     "execution_count": 16,
     "metadata": {},
     "output_type": "execute_result"
    }
   ],
   "source": [
    "data.columns[data.isnull().any()]"
   ]
  },
  {
   "cell_type": "markdown",
   "metadata": {},
   "source": [
    "- null값이 있는 열을 추출\n",
    "- null값이 존재하지 않았음"
   ]
  },
  {
   "cell_type": "markdown",
   "metadata": {},
   "source": [
    "# outlier check"
   ]
  },
  {
   "cell_type": "code",
   "execution_count": 17,
   "metadata": {},
   "outputs": [
    {
     "data": {
      "text/plain": [
       "{'whiskers': [<matplotlib.lines.Line2D at 0x21ec0250588>,\n",
       "  <matplotlib.lines.Line2D at 0x21ebfbc67c8>],\n",
       " 'caps': [<matplotlib.lines.Line2D at 0x21ebfbc6a48>,\n",
       "  <matplotlib.lines.Line2D at 0x21ebfbc68c8>],\n",
       " 'boxes': [<matplotlib.lines.Line2D at 0x21ebff000c8>],\n",
       " 'medians': [<matplotlib.lines.Line2D at 0x21ebbc90888>],\n",
       " 'fliers': [<matplotlib.lines.Line2D at 0x21eba728cc8>],\n",
       " 'means': []}"
      ]
     },
     "execution_count": 17,
     "metadata": {},
     "output_type": "execute_result"
    },
    {
     "data": {
      "image/png": "[encoded data removed]",
      "text/plain": [
       "<Figure size 432x288 with 1 Axes>"
      ]
     },
     "metadata": {
      "needs_background": "light"
     },
     "output_type": "display_data"
    }
   ],
   "source": [
    "#outlier\n",
    "plt.boxplot(data['Y'])"
   ]
  },
  {
   "cell_type": "markdown",
   "metadata": {},
   "source": [
    "- 샌프란시스코의 평균 위도 : 37도\n",
    "- 위도가 90도로 찍힌 이상치 발견\n",
    "- 테스트 데이터를 확인한 결과 이상치는 존재하지 않았음"
   ]
  },
  {
   "cell_type": "code",
   "execution_count": 18,
   "metadata": {},
   "outputs": [
    {
     "data": {
      "text/plain": [
       "Dates         67\n",
       "Category      67\n",
       "Descript      67\n",
       "DayOfWeek     67\n",
       "PdDistrict    67\n",
       "Resolution    67\n",
       "Address       67\n",
       "X             67\n",
       "Y             67\n",
       "Year          67\n",
       "Month         67\n",
       "Hour          67\n",
       "Minute        67\n",
       "dtype: int64"
      ]
     },
     "execution_count": 18,
     "metadata": {},
     "output_type": "execute_result"
    }
   ],
   "source": [
    "data[data['Y'] > 50 ].count()"
   ]
  },
  {
   "cell_type": "markdown",
   "metadata": {},
   "source": [
    "총 67개의 이상치가 확인됨"
   ]
  },
  {
   "cell_type": "code",
   "execution_count": 19,
   "metadata": {},
   "outputs": [
    {
     "data": {
      "text/plain": [
       "(877982, 13)"
      ]
     },
     "execution_count": 19,
     "metadata": {},
     "output_type": "execute_result"
    }
   ],
   "source": [
    "data = data[data['Y'] < 50]\n",
    "data.shape"
   ]
  },
  {
   "cell_type": "markdown",
   "metadata": {},
   "source": [
    "67개의 이상치를 제거"
   ]
  },
  {
   "cell_type": "code",
   "execution_count": 20,
   "metadata": {},
   "outputs": [
    {
     "data": {
      "text/plain": [
       "{'whiskers': [<matplotlib.lines.Line2D at 0x21ebfbe3e08>,\n",
       "  <matplotlib.lines.Line2D at 0x21ebb8d1d48>],\n",
       " 'caps': [<matplotlib.lines.Line2D at 0x21eba723c08>,\n",
       "  <matplotlib.lines.Line2D at 0x21eba723d08>],\n",
       " 'boxes': [<matplotlib.lines.Line2D at 0x21ebb8d1488>],\n",
       " 'medians': [<matplotlib.lines.Line2D at 0x21eba71fb88>],\n",
       " 'fliers': [<matplotlib.lines.Line2D at 0x21eba71fc88>],\n",
       " 'means': []}"
      ]
     },
     "execution_count": 20,
     "metadata": {},
     "output_type": "execute_result"
    },
    {
     "data": {
      "image/png": "[encoded data removed]",
      "text/plain": [
       "<Figure size 432x288 with 1 Axes>"
      ]
     },
     "metadata": {
      "needs_background": "light"
     },
     "output_type": "display_data"
    }
   ],
   "source": [
    "plt.boxplot(data[\"Y\"])"
   ]
  },
  {
   "cell_type": "markdown",
   "metadata": {},
   "source": [
    "이상치가 제거된 위도에 대한 boxplot"
   ]
  },
  {
   "cell_type": "markdown",
   "metadata": {},
   "source": [
    "## feature engine"
   ]
  },
  {
   "cell_type": "code",
   "execution_count": 21,
   "metadata": {},
   "outputs": [
    {
     "data": {
      "text/plain": [
       "800 Block of BRYANT ST         26533\n",
       "800 Block of MARKET ST          6581\n",
       "2000 Block of MISSION ST        5097\n",
       "1000 Block of POTRERO AV        4063\n",
       "900 Block of MARKET ST          3251\n",
       "                               ...  \n",
       "1200 Block of TWIN PEAKS BL        1\n",
       "VICENTE ST / FORESTSIDE AV         1\n",
       "1000 Block of STEVENSON ST         1\n",
       "WALLER ST / POTOMAC ST             1\n",
       "GOLETA AV / SLOAT BL               1\n",
       "Name: Address, Length: 23191, dtype: int64"
      ]
     },
     "execution_count": 21,
     "metadata": {},
     "output_type": "execute_result"
    }
   ],
   "source": [
    "data['Address'].value_counts()"
   ]
  },
  {
   "cell_type": "markdown",
   "metadata": {},
   "source": [
    " - Address를 보면 총 23000여개의 거리가 있음\n",
    " - Address변수를 get_dummies를 하면 변수가 너무 많아짐\n",
    " - 범죄를 예측하는 것이기 때문에 Address가 중요한 변수라고 생각함"
   ]
  },
  {
   "cell_type": "code",
   "execution_count": 22,
   "metadata": {},
   "outputs": [],
   "source": [
    "data['Block'] = data['Address'].str.contains('block', case=False)\n",
    "data['Block'] = data['Block'].map(lambda x: 1 if  x == True else 0)"
   ]
  },
  {
   "cell_type": "markdown",
   "metadata": {},
   "source": [
    "Address를 보면 'Block'이라는 단어를 찾을 수 있는데\n",
    "\n",
    "따라서, Block이 있으면 1, 없으면 0으로 변경"
   ]
  },
  {
   "cell_type": "code",
   "execution_count": 23,
   "metadata": {
    "scrolled": true
   },
   "outputs": [
    {
     "data": {
      "text/plain": [
       "NONE                                      526757\n",
       "ARREST, BOOKED                            206384\n",
       "ARREST, CITED                              76994\n",
       "LOCATED                                    17101\n",
       "PSYCHOPATHIC CASE                          14533\n",
       "UNFOUNDED                                   9584\n",
       "JUVENILE BOOKED                             5563\n",
       "COMPLAINANT REFUSES TO PROSECUTE            3974\n",
       "DISTRICT ATTORNEY REFUSES TO PROSECUTE      3934\n",
       "NOT PROSECUTED                              3714\n",
       "JUVENILE CITED                              3332\n",
       "PROSECUTED BY OUTSIDE AGENCY                2504\n",
       "EXCEPTIONAL CLEARANCE                       1530\n",
       "JUVENILE ADMONISHED                         1455\n",
       "JUVENILE DIVERTED                            355\n",
       "CLEARED-CONTACT JUVENILE FOR MORE INFO       217\n",
       "PROSECUTED FOR LESSER OFFENSE                 51\n",
       "Name: Resolution, dtype: int64"
      ]
     },
     "execution_count": 23,
     "metadata": {},
     "output_type": "execute_result"
    }
   ],
   "source": [
    "data['Resolution'].value_counts()"
   ]
  },
  {
   "cell_type": "markdown",
   "metadata": {},
   "source": [
    "총 17개의 범죄 해결 유무를 가지고 있음"
   ]
  },
  {
   "cell_type": "code",
   "execution_count": 24,
   "metadata": {},
   "outputs": [],
   "source": [
    "data['Solution'] = data['Resolution'].str.contains('NONE', case= False)\n",
    "data['Solution'] = data['Solution'].map(lambda x: 0 if  x == True else 1)"
   ]
  },
  {
   "cell_type": "markdown",
   "metadata": {},
   "source": [
    "같은 방법으로 Resolution의 데이터도 \n",
    "\n",
    "범죄가 해결되었다면 범죄가 어떤 방법으로 해결되어 있는지 나와있으며, 해결되지 않았다면 None으로 입력되어있다.\n",
    "\n",
    "따라서 범죄가 해결되었다면 1, 범죄가 해결되지 않았다면 0으로 변경"
   ]
  },
  {
   "cell_type": "code",
   "execution_count": 25,
   "metadata": {},
   "outputs": [],
   "source": [
    "data= data.drop([\"Descript\", \"Resolution\",'Dates','Address'], axis = 1)"
   ]
  },
  {
   "cell_type": "markdown",
   "metadata": {},
   "source": [
    "필요없는 변수를 제거"
   ]
  },
  {
   "cell_type": "code",
   "execution_count": 26,
   "metadata": {},
   "outputs": [],
   "source": [
    "X = data[['DayOfWeek','PdDistrict','X','Y','Year','Month','Hour','Minute','Block','Solution']]\n",
    "y = data[['Category']]"
   ]
  },
  {
   "cell_type": "markdown",
   "metadata": {},
   "source": [
    "X, y 설정\n",
    " - X : DayOfWeek(요일), PdDistrict(경찰서구역), X(경도), Y(위도), Month(열), Hour(시간), Minute(분), Block, Solution\n",
    "          \n",
    " - y : 범죄종류(예측할 변수)"
   ]
  },
  {
   "cell_type": "code",
   "execution_count": 27,
   "metadata": {},
   "outputs": [],
   "source": [
    "X_dummies = pd.get_dummies(X,columns=['DayOfWeek', 'PdDistrict'])"
   ]
  },
  {
   "cell_type": "markdown",
   "metadata": {},
   "source": [
    "명목형 변수인 DayOfWeek(요일), PdDistrict(경찰서구역)을 get_dummies를 사용하여 각각의 변수를 0,1로 변경"
   ]
  },
  {
   "cell_type": "code",
   "execution_count": 28,
   "metadata": {
    "scrolled": true
   },
   "outputs": [
    {
     "data": {
      "text/html": [
       "<div>\n",
       "<style scoped>\n",
       "    .dataframe tbody tr th:only-of-type {\n",
       "        vertical-align: middle;\n",
       "    }\n",
       "\n",
       "    .dataframe tbody tr th {\n",
       "        vertical-align: top;\n",
       "    }\n",
       "\n",
       "    .dataframe thead th {\n",
       "        text-align: right;\n",
       "    }\n",
       "</style>\n",
       "<table border=\"1\" class=\"dataframe\">\n",
       "  <thead>\n",
       "    <tr style=\"text-align: right;\">\n",
       "      <th></th>\n",
       "      <th>X</th>\n",
       "      <th>Y</th>\n",
       "      <th>Year</th>\n",
       "      <th>Month</th>\n",
       "      <th>Hour</th>\n",
       "      <th>Minute</th>\n",
       "      <th>Block</th>\n",
       "      <th>Solution</th>\n",
       "      <th>DayOfWeek_Friday</th>\n",
       "      <th>DayOfWeek_Monday</th>\n",
       "      <th>...</th>\n",
       "      <th>PdDistrict_BAYVIEW</th>\n",
       "      <th>PdDistrict_CENTRAL</th>\n",
       "      <th>PdDistrict_INGLESIDE</th>\n",
       "      <th>PdDistrict_MISSION</th>\n",
       "      <th>PdDistrict_NORTHERN</th>\n",
       "      <th>PdDistrict_PARK</th>\n",
       "      <th>PdDistrict_RICHMOND</th>\n",
       "      <th>PdDistrict_SOUTHERN</th>\n",
       "      <th>PdDistrict_TARAVAL</th>\n",
       "      <th>PdDistrict_TENDERLOIN</th>\n",
       "    </tr>\n",
       "  </thead>\n",
       "  <tbody>\n",
       "    <tr>\n",
       "      <th>0</th>\n",
       "      <td>-122.425892</td>\n",
       "      <td>37.774599</td>\n",
       "      <td>2015</td>\n",
       "      <td>5</td>\n",
       "      <td>23</td>\n",
       "      <td>53</td>\n",
       "      <td>0</td>\n",
       "      <td>1</td>\n",
       "      <td>0</td>\n",
       "      <td>0</td>\n",
       "      <td>...</td>\n",
       "      <td>0</td>\n",
       "      <td>0</td>\n",
       "      <td>0</td>\n",
       "      <td>0</td>\n",
       "      <td>1</td>\n",
       "      <td>0</td>\n",
       "      <td>0</td>\n",
       "      <td>0</td>\n",
       "      <td>0</td>\n",
       "      <td>0</td>\n",
       "    </tr>\n",
       "    <tr>\n",
       "      <th>1</th>\n",
       "      <td>-122.425892</td>\n",
       "      <td>37.774599</td>\n",
       "      <td>2015</td>\n",
       "      <td>5</td>\n",
       "      <td>23</td>\n",
       "      <td>53</td>\n",
       "      <td>0</td>\n",
       "      <td>1</td>\n",
       "      <td>0</td>\n",
       "      <td>0</td>\n",
       "      <td>...</td>\n",
       "      <td>0</td>\n",
       "      <td>0</td>\n",
       "      <td>0</td>\n",
       "      <td>0</td>\n",
       "      <td>1</td>\n",
       "      <td>0</td>\n",
       "      <td>0</td>\n",
       "      <td>0</td>\n",
       "      <td>0</td>\n",
       "      <td>0</td>\n",
       "    </tr>\n",
       "    <tr>\n",
       "      <th>2</th>\n",
       "      <td>-122.424363</td>\n",
       "      <td>37.800414</td>\n",
       "      <td>2015</td>\n",
       "      <td>5</td>\n",
       "      <td>23</td>\n",
       "      <td>33</td>\n",
       "      <td>0</td>\n",
       "      <td>1</td>\n",
       "      <td>0</td>\n",
       "      <td>0</td>\n",
       "      <td>...</td>\n",
       "      <td>0</td>\n",
       "      <td>0</td>\n",
       "      <td>0</td>\n",
       "      <td>0</td>\n",
       "      <td>1</td>\n",
       "      <td>0</td>\n",
       "      <td>0</td>\n",
       "      <td>0</td>\n",
       "      <td>0</td>\n",
       "      <td>0</td>\n",
       "    </tr>\n",
       "    <tr>\n",
       "      <th>3</th>\n",
       "      <td>-122.426995</td>\n",
       "      <td>37.800873</td>\n",
       "      <td>2015</td>\n",
       "      <td>5</td>\n",
       "      <td>23</td>\n",
       "      <td>30</td>\n",
       "      <td>1</td>\n",
       "      <td>0</td>\n",
       "      <td>0</td>\n",
       "      <td>0</td>\n",
       "      <td>...</td>\n",
       "      <td>0</td>\n",
       "      <td>0</td>\n",
       "      <td>0</td>\n",
       "      <td>0</td>\n",
       "      <td>1</td>\n",
       "      <td>0</td>\n",
       "      <td>0</td>\n",
       "      <td>0</td>\n",
       "      <td>0</td>\n",
       "      <td>0</td>\n",
       "    </tr>\n",
       "    <tr>\n",
       "      <th>4</th>\n",
       "      <td>-122.438738</td>\n",
       "      <td>37.771541</td>\n",
       "      <td>2015</td>\n",
       "      <td>5</td>\n",
       "      <td>23</td>\n",
       "      <td>30</td>\n",
       "      <td>1</td>\n",
       "      <td>0</td>\n",
       "      <td>0</td>\n",
       "      <td>0</td>\n",
       "      <td>...</td>\n",
       "      <td>0</td>\n",
       "      <td>0</td>\n",
       "      <td>0</td>\n",
       "      <td>0</td>\n",
       "      <td>0</td>\n",
       "      <td>1</td>\n",
       "      <td>0</td>\n",
       "      <td>0</td>\n",
       "      <td>0</td>\n",
       "      <td>0</td>\n",
       "    </tr>\n",
       "    <tr>\n",
       "      <th>...</th>\n",
       "      <td>...</td>\n",
       "      <td>...</td>\n",
       "      <td>...</td>\n",
       "      <td>...</td>\n",
       "      <td>...</td>\n",
       "      <td>...</td>\n",
       "      <td>...</td>\n",
       "      <td>...</td>\n",
       "      <td>...</td>\n",
       "      <td>...</td>\n",
       "      <td>...</td>\n",
       "      <td>...</td>\n",
       "      <td>...</td>\n",
       "      <td>...</td>\n",
       "      <td>...</td>\n",
       "      <td>...</td>\n",
       "      <td>...</td>\n",
       "      <td>...</td>\n",
       "      <td>...</td>\n",
       "      <td>...</td>\n",
       "      <td>...</td>\n",
       "    </tr>\n",
       "    <tr>\n",
       "      <th>878044</th>\n",
       "      <td>-122.459033</td>\n",
       "      <td>37.714056</td>\n",
       "      <td>2003</td>\n",
       "      <td>1</td>\n",
       "      <td>0</td>\n",
       "      <td>15</td>\n",
       "      <td>0</td>\n",
       "      <td>0</td>\n",
       "      <td>0</td>\n",
       "      <td>1</td>\n",
       "      <td>...</td>\n",
       "      <td>0</td>\n",
       "      <td>0</td>\n",
       "      <td>0</td>\n",
       "      <td>0</td>\n",
       "      <td>0</td>\n",
       "      <td>0</td>\n",
       "      <td>0</td>\n",
       "      <td>0</td>\n",
       "      <td>1</td>\n",
       "      <td>0</td>\n",
       "    </tr>\n",
       "    <tr>\n",
       "      <th>878045</th>\n",
       "      <td>-122.447364</td>\n",
       "      <td>37.731948</td>\n",
       "      <td>2003</td>\n",
       "      <td>1</td>\n",
       "      <td>0</td>\n",
       "      <td>1</td>\n",
       "      <td>1</td>\n",
       "      <td>0</td>\n",
       "      <td>0</td>\n",
       "      <td>1</td>\n",
       "      <td>...</td>\n",
       "      <td>0</td>\n",
       "      <td>0</td>\n",
       "      <td>1</td>\n",
       "      <td>0</td>\n",
       "      <td>0</td>\n",
       "      <td>0</td>\n",
       "      <td>0</td>\n",
       "      <td>0</td>\n",
       "      <td>0</td>\n",
       "      <td>0</td>\n",
       "    </tr>\n",
       "    <tr>\n",
       "      <th>878046</th>\n",
       "      <td>-122.403390</td>\n",
       "      <td>37.780266</td>\n",
       "      <td>2003</td>\n",
       "      <td>1</td>\n",
       "      <td>0</td>\n",
       "      <td>1</td>\n",
       "      <td>0</td>\n",
       "      <td>0</td>\n",
       "      <td>0</td>\n",
       "      <td>1</td>\n",
       "      <td>...</td>\n",
       "      <td>0</td>\n",
       "      <td>0</td>\n",
       "      <td>0</td>\n",
       "      <td>0</td>\n",
       "      <td>0</td>\n",
       "      <td>0</td>\n",
       "      <td>0</td>\n",
       "      <td>1</td>\n",
       "      <td>0</td>\n",
       "      <td>0</td>\n",
       "    </tr>\n",
       "    <tr>\n",
       "      <th>878047</th>\n",
       "      <td>-122.390531</td>\n",
       "      <td>37.780607</td>\n",
       "      <td>2003</td>\n",
       "      <td>1</td>\n",
       "      <td>0</td>\n",
       "      <td>1</td>\n",
       "      <td>0</td>\n",
       "      <td>0</td>\n",
       "      <td>0</td>\n",
       "      <td>1</td>\n",
       "      <td>...</td>\n",
       "      <td>0</td>\n",
       "      <td>0</td>\n",
       "      <td>0</td>\n",
       "      <td>0</td>\n",
       "      <td>0</td>\n",
       "      <td>0</td>\n",
       "      <td>0</td>\n",
       "      <td>1</td>\n",
       "      <td>0</td>\n",
       "      <td>0</td>\n",
       "    </tr>\n",
       "    <tr>\n",
       "      <th>878048</th>\n",
       "      <td>-122.394926</td>\n",
       "      <td>37.738212</td>\n",
       "      <td>2003</td>\n",
       "      <td>1</td>\n",
       "      <td>0</td>\n",
       "      <td>1</td>\n",
       "      <td>1</td>\n",
       "      <td>0</td>\n",
       "      <td>0</td>\n",
       "      <td>1</td>\n",
       "      <td>...</td>\n",
       "      <td>1</td>\n",
       "      <td>0</td>\n",
       "      <td>0</td>\n",
       "      <td>0</td>\n",
       "      <td>0</td>\n",
       "      <td>0</td>\n",
       "      <td>0</td>\n",
       "      <td>0</td>\n",
       "      <td>0</td>\n",
       "      <td>0</td>\n",
       "    </tr>\n",
       "  </tbody>\n",
       "</table>\n",
       "<p>877982 rows × 25 columns</p>\n",
       "</div>"
      ],
      "text/plain": [
       "                 X          Y  Year  Month  Hour  Minute  Block  Solution  \\\n",
       "0      -122.425892  37.774599  2015      5    23      53      0         1   \n",
       "1      -122.425892  37.774599  2015      5    23      53      0         1   \n",
       "2      -122.424363  37.800414  2015      5    23      33      0         1   \n",
       "3      -122.426995  37.800873  2015      5    23      30      1         0   \n",
       "4      -122.438738  37.771541  2015      5    23      30      1         0   \n",
       "...            ...        ...   ...    ...   ...     ...    ...       ...   \n",
       "878044 -122.459033  37.714056  2003      1     0      15      0         0   \n",
       "878045 -122.447364  37.731948  2003      1     0       1      1         0   \n",
       "878046 -122.403390  37.780266  2003      1     0       1      0         0   \n",
       "878047 -122.390531  37.780607  2003      1     0       1      0         0   \n",
       "878048 -122.394926  37.738212  2003      1     0       1      1         0   \n",
       "\n",
       "        DayOfWeek_Friday  DayOfWeek_Monday  ...  PdDistrict_BAYVIEW  \\\n",
       "0                      0                 0  ...                   0   \n",
       "1                      0                 0  ...                   0   \n",
       "2                      0                 0  ...                   0   \n",
       "3                      0                 0  ...                   0   \n",
       "4                      0                 0  ...                   0   \n",
       "...                  ...               ...  ...                 ...   \n",
       "878044                 0                 1  ...                   0   \n",
       "878045                 0                 1  ...                   0   \n",
       "878046                 0                 1  ...                   0   \n",
       "878047                 0                 1  ...                   0   \n",
       "878048                 0                 1  ...                   1   \n",
       "\n",
       "        PdDistrict_CENTRAL  PdDistrict_INGLESIDE  PdDistrict_MISSION  \\\n",
       "0                        0                     0                   0   \n",
       "1                        0                     0                   0   \n",
       "2                        0                     0                   0   \n",
       "3                        0                     0                   0   \n",
       "4                        0                     0                   0   \n",
       "...                    ...                   ...                 ...   \n",
       "878044                   0                     0                   0   \n",
       "878045                   0                     1                   0   \n",
       "878046                   0                     0                   0   \n",
       "878047                   0                     0                   0   \n",
       "878048                   0                     0                   0   \n",
       "\n",
       "        PdDistrict_NORTHERN  PdDistrict_PARK  PdDistrict_RICHMOND  \\\n",
       "0                         1                0                    0   \n",
       "1                         1                0                    0   \n",
       "2                         1                0                    0   \n",
       "3                         1                0                    0   \n",
       "4                         0                1                    0   \n",
       "...                     ...              ...                  ...   \n",
       "878044                    0                0                    0   \n",
       "878045                    0                0                    0   \n",
       "878046                    0                0                    0   \n",
       "878047                    0                0                    0   \n",
       "878048                    0                0                    0   \n",
       "\n",
       "        PdDistrict_SOUTHERN  PdDistrict_TARAVAL  PdDistrict_TENDERLOIN  \n",
       "0                         0                   0                      0  \n",
       "1                         0                   0                      0  \n",
       "2                         0                   0                      0  \n",
       "3                         0                   0                      0  \n",
       "4                         0                   0                      0  \n",
       "...                     ...                 ...                    ...  \n",
       "878044                    0                   1                      0  \n",
       "878045                    0                   0                      0  \n",
       "878046                    1                   0                      0  \n",
       "878047                    1                   0                      0  \n",
       "878048                    0                   0                      0  \n",
       "\n",
       "[877982 rows x 25 columns]"
      ]
     },
     "execution_count": 28,
     "metadata": {},
     "output_type": "execute_result"
    }
   ],
   "source": [
    "X_dummies"
   ]
  },
  {
   "cell_type": "markdown",
   "metadata": {},
   "source": [
    "## Train , Test"
   ]
  },
  {
   "cell_type": "code",
   "execution_count": 29,
   "metadata": {},
   "outputs": [],
   "source": [
    "X_train, X_test, y_train, y_test = train_test_split(X_dummies, y,random_state=0)"
   ]
  },
  {
   "cell_type": "markdown",
   "metadata": {},
   "source": [
    "traindata와 testdata로 분리"
   ]
  },
  {
   "cell_type": "markdown",
   "metadata": {},
   "source": [
    "## 스케일링"
   ]
  },
  {
   "cell_type": "code",
   "execution_count": 30,
   "metadata": {},
   "outputs": [],
   "source": [
    "scaler = MinMaxScaler()"
   ]
  },
  {
   "cell_type": "markdown",
   "metadata": {},
   "source": [
    " - MinMaxScaler는 이상치에 민감함\n",
    " - 그러나, 앞에서 이상치를 제거했기 때문에 MinMaxScaler로 진행"
   ]
  },
  {
   "cell_type": "code",
   "execution_count": 31,
   "metadata": {},
   "outputs": [],
   "source": [
    "#데이터변환\n",
    "X_train_scaled = scaler.fit_transform(X_train)\n",
    "X_test_scaled = scaler.fit_transform(X_test)"
   ]
  },
  {
   "cell_type": "code",
   "execution_count": 32,
   "metadata": {},
   "outputs": [
    {
     "data": {
      "text/plain": [
       "array([[0.74693575, 0.76724447, 0.5       , ..., 0.        , 0.        ,\n",
       "        0.        ],\n",
       "       [0.55283925, 0.28226468, 0.75      , ..., 0.        , 0.        ,\n",
       "        0.        ],\n",
       "       [0.73486576, 0.50078256, 0.25      , ..., 0.        , 0.        ,\n",
       "        0.        ],\n",
       "       ...,\n",
       "       [0.68625308, 0.67061816, 0.83333333, ..., 0.        , 0.        ,\n",
       "        1.        ],\n",
       "       [0.71549904, 0.70194662, 0.5       , ..., 0.        , 0.        ,\n",
       "        1.        ],\n",
       "       [0.85541684, 0.10084549, 0.66666667, ..., 0.        , 0.        ,\n",
       "        0.        ]])"
      ]
     },
     "execution_count": 32,
     "metadata": {},
     "output_type": "execute_result"
    }
   ],
   "source": [
    "X_train_scaled"
   ]
  },
  {
   "cell_type": "code",
   "execution_count": 33,
   "metadata": {},
   "outputs": [
    {
     "data": {
      "text/plain": [
       "array([[0.43622652, 0.4935735 , 0.33333333, ..., 0.        , 0.        ,\n",
       "        0.        ],\n",
       "       [0.39579723, 0.62281886, 0.        , ..., 0.        , 0.        ,\n",
       "        0.        ],\n",
       "       [0.82122003, 0.2187525 , 0.83333333, ..., 0.        , 0.        ,\n",
       "        0.        ],\n",
       "       ...,\n",
       "       [0.40814523, 0.52165352, 0.5       , ..., 0.        , 0.        ,\n",
       "        0.        ],\n",
       "       [0.83984653, 0.29285566, 0.83333333, ..., 0.        , 0.        ,\n",
       "        0.        ],\n",
       "       [0.60298016, 0.73393049, 0.25      , ..., 0.        , 0.        ,\n",
       "        0.        ]])"
      ]
     },
     "execution_count": 33,
     "metadata": {},
     "output_type": "execute_result"
    }
   ],
   "source": [
    "X_test_scaled"
   ]
  },
  {
   "cell_type": "code",
   "execution_count": 34,
   "metadata": {
    "scrolled": true
   },
   "outputs": [
    {
     "data": {
      "text/plain": [
       "array([[0.74693575, 0.76724447, 0.5       , ..., 0.        , 0.        ,\n",
       "        0.        ],\n",
       "       [0.55283925, 0.28226468, 0.75      , ..., 0.        , 0.        ,\n",
       "        0.        ],\n",
       "       [0.73486576, 0.50078256, 0.25      , ..., 0.        , 0.        ,\n",
       "        0.        ],\n",
       "       ...,\n",
       "       [0.68625308, 0.67061816, 0.83333333, ..., 0.        , 0.        ,\n",
       "        1.        ],\n",
       "       [0.71549904, 0.70194662, 0.5       , ..., 0.        , 0.        ,\n",
       "        1.        ],\n",
       "       [0.85541684, 0.10084549, 0.66666667, ..., 0.        , 0.        ,\n",
       "        0.        ]])"
      ]
     },
     "execution_count": 34,
     "metadata": {},
     "output_type": "execute_result"
    }
   ],
   "source": [
    "train_features = X_train_scaled[:data.shape[0]]\n",
    "train_features"
   ]
  },
  {
   "cell_type": "code",
   "execution_count": 35,
   "metadata": {},
   "outputs": [
    {
     "data": {
      "text/plain": [
       "array([[0.43622652, 0.4935735 , 0.33333333, ..., 0.        , 0.        ,\n",
       "        0.        ],\n",
       "       [0.39579723, 0.62281886, 0.        , ..., 0.        , 0.        ,\n",
       "        0.        ],\n",
       "       [0.82122003, 0.2187525 , 0.83333333, ..., 0.        , 0.        ,\n",
       "        0.        ],\n",
       "       ...,\n",
       "       [0.40814523, 0.52165352, 0.5       , ..., 0.        , 0.        ,\n",
       "        0.        ],\n",
       "       [0.83984653, 0.29285566, 0.83333333, ..., 0.        , 0.        ,\n",
       "        0.        ],\n",
       "       [0.60298016, 0.73393049, 0.25      , ..., 0.        , 0.        ,\n",
       "        0.        ]])"
      ]
     },
     "execution_count": 35,
     "metadata": {},
     "output_type": "execute_result"
    }
   ],
   "source": [
    "test_features = X_test_scaled[:data.shape[0]]\n",
    "test_features"
   ]
  },
  {
   "cell_type": "markdown",
   "metadata": {},
   "source": [
    "사용하기 편하게 train_features와 test_features로 이름 변경"
   ]
  },
  {
   "cell_type": "code",
   "execution_count": 36,
   "metadata": {},
   "outputs": [
    {
     "data": {
      "text/html": [
       "<div>\n",
       "<style scoped>\n",
       "    .dataframe tbody tr th:only-of-type {\n",
       "        vertical-align: middle;\n",
       "    }\n",
       "\n",
       "    .dataframe tbody tr th {\n",
       "        vertical-align: top;\n",
       "    }\n",
       "\n",
       "    .dataframe thead th {\n",
       "        text-align: right;\n",
       "    }\n",
       "</style>\n",
       "<table border=\"1\" class=\"dataframe\">\n",
       "  <thead>\n",
       "    <tr style=\"text-align: right;\">\n",
       "      <th></th>\n",
       "      <th>Category</th>\n",
       "    </tr>\n",
       "  </thead>\n",
       "  <tbody>\n",
       "    <tr>\n",
       "      <th>410027</th>\n",
       "      <td>BURGLARY</td>\n",
       "    </tr>\n",
       "    <tr>\n",
       "      <th>179645</th>\n",
       "      <td>LARCENY/THEFT</td>\n",
       "    </tr>\n",
       "    <tr>\n",
       "      <th>599493</th>\n",
       "      <td>RECOVERED VEHICLE</td>\n",
       "    </tr>\n",
       "    <tr>\n",
       "      <th>815150</th>\n",
       "      <td>NON-CRIMINAL</td>\n",
       "    </tr>\n",
       "    <tr>\n",
       "      <th>95800</th>\n",
       "      <td>KIDNAPPING</td>\n",
       "    </tr>\n",
       "    <tr>\n",
       "      <th>...</th>\n",
       "      <td>...</td>\n",
       "    </tr>\n",
       "    <tr>\n",
       "      <th>359783</th>\n",
       "      <td>SUSPICIOUS OCC</td>\n",
       "    </tr>\n",
       "    <tr>\n",
       "      <th>152315</th>\n",
       "      <td>NON-CRIMINAL</td>\n",
       "    </tr>\n",
       "    <tr>\n",
       "      <th>117952</th>\n",
       "      <td>LARCENY/THEFT</td>\n",
       "    </tr>\n",
       "    <tr>\n",
       "      <th>435829</th>\n",
       "      <td>DRUG/NARCOTIC</td>\n",
       "    </tr>\n",
       "    <tr>\n",
       "      <th>305711</th>\n",
       "      <td>ASSAULT</td>\n",
       "    </tr>\n",
       "  </tbody>\n",
       "</table>\n",
       "<p>658486 rows × 1 columns</p>\n",
       "</div>"
      ],
      "text/plain": [
       "                 Category\n",
       "410027           BURGLARY\n",
       "179645      LARCENY/THEFT\n",
       "599493  RECOVERED VEHICLE\n",
       "815150       NON-CRIMINAL\n",
       "95800          KIDNAPPING\n",
       "...                   ...\n",
       "359783     SUSPICIOUS OCC\n",
       "152315       NON-CRIMINAL\n",
       "117952      LARCENY/THEFT\n",
       "435829      DRUG/NARCOTIC\n",
       "305711            ASSAULT\n",
       "\n",
       "[658486 rows x 1 columns]"
      ]
     },
     "execution_count": 36,
     "metadata": {},
     "output_type": "execute_result"
    }
   ],
   "source": [
    "y_train"
   ]
  },
  {
   "cell_type": "code",
   "execution_count": 37,
   "metadata": {},
   "outputs": [],
   "source": [
    "train_labels = pd.get_dummies(y_train['Category']).values\n",
    "train_labels = np.argmax(train_labels, axis=1)"
   ]
  },
  {
   "cell_type": "code",
   "execution_count": 38,
   "metadata": {},
   "outputs": [],
   "source": [
    "test_labels = pd.get_dummies(y_test['Category']).values\n",
    "test_labels = np.argmax(test_labels, axis=1)"
   ]
  },
  {
   "cell_type": "markdown",
   "metadata": {},
   "source": [
    "동일하게 train_labels와 test_labels로 이름 변경"
   ]
  },
  {
   "cell_type": "markdown",
   "metadata": {},
   "source": [
    "## LightGBM"
   ]
  },
  {
   "cell_type": "markdown",
   "metadata": {},
   "source": [
    "https://lightgbm.readthedocs.io/en/latest/pythonapi/lightgbm.LGBMClassifier.html"
   ]
  },
  {
   "cell_type": "markdown",
   "metadata": {},
   "source": [
    "https://nurilee.com/lightgbm-definition-parameter-tuning/"
   ]
  },
  {
   "cell_type": "markdown",
   "metadata": {},
   "source": [
    "GBM(Gradient Boost Machine) 기반\n",
    "- 리프 중심 트리분할(Leaf Wise) 방식 : 최대 손실 값을 가지는 리프 노드를 지속적으로 분할하면서 트리   가 깊어지고 비대칭적으로 생성 (예측 오류 손실 최소화)\n",
    "\n",
    "장점\n",
    "- XGBoost 대비 더 빠른 학습과 예측 수행 시간\n",
    "- 더 작은 메모리 사용량\n",
    "\n",
    "단점\n",
    "- 적은 데이터 세트에 적용할 경우 과적합 발생\n"
   ]
  },
  {
   "cell_type": "code",
   "execution_count": 16,
   "metadata": {},
   "outputs": [],
   "source": [
    "import lightgbm as lgb"
   ]
  },
  {
   "cell_type": "markdown",
   "metadata": {},
   "source": [
    "### GridSearch - min_child_weight"
   ]
  },
  {
   "cell_type": "code",
   "execution_count": 30,
   "metadata": {
    "scrolled": false
   },
   "outputs": [
    {
     "name": "stderr",
     "output_type": "stream",
     "text": [
      "C:\\Users\\CPB06GameN\\anaconda3\\lib\\site-packages\\sklearn\\model_selection\\_split.py:667: UserWarning: The least populated class in y has only 4 members, which is less than n_splits=5.\n",
      "  % (min_groups, self.n_splits)), UserWarning)\n",
      "C:\\Users\\CPB06GameN\\anaconda3\\lib\\site-packages\\sklearn\\model_selection\\_search.py:823: FutureWarning: The parameter 'iid' is deprecated in 0.22 and will be removed in 0.24.\n",
      "  \"removed in 0.24.\", FutureWarning\n"
     ]
    },
    {
     "name": "stdout",
     "output_type": "stream",
     "text": [
      "14393.954134702682\n"
     ]
    },
    {
     "data": {
      "text/plain": [
       "({'mean_fit_time': array([389.62030115, 409.37169633, 473.08637786, 800.06717739,\n",
       "         412.44597178]),\n",
       "  'std_fit_time': array([ 35.1336823 ,   2.84111844, 108.22625099, 365.51372159,\n",
       "          24.89072727]),\n",
       "  'mean_score_time': array([43.53756833, 47.34809842, 70.91166549, 90.41949916, 43.78423409]),\n",
       "  'std_score_time': array([11.73811864,  2.34812704, 39.47763607, 54.18686467,  6.28879267]),\n",
       "  'param_min_child_weight': masked_array(data=[0.001, 0.01, 0.1, 1, 10],\n",
       "               mask=[False, False, False, False, False],\n",
       "         fill_value='?',\n",
       "              dtype=object),\n",
       "  'params': [{'min_child_weight': 0.001},\n",
       "   {'min_child_weight': 0.01},\n",
       "   {'min_child_weight': 0.1},\n",
       "   {'min_child_weight': 1},\n",
       "   {'min_child_weight': 10}],\n",
       "  'split0_test_score': array([0.16618324, 0.35096964, 0.3516834 , 0.3525642 , 0.35273884]),\n",
       "  'split1_test_score': array([0.18254022, 0.35207332, 0.35284782, 0.35325786, 0.35393365]),\n",
       "  'split2_test_score': array([0.17883475, 0.3505319 , 0.35095712, 0.35222518, 0.35328064]),\n",
       "  'split3_test_score': array([0.22790193, 0.35110899, 0.35183793, 0.35314396, 0.35329582]),\n",
       "  'split4_test_score': array([0.1919254 , 0.35161014, 0.35179237, 0.35258206, 0.35422979]),\n",
       "  'mean_test_score': array([0.18947711, 0.3512588 , 0.35182373, 0.35275465, 0.35349575]),\n",
       "  'std_test_score': array([0.02091146, 0.00053316, 0.00060343, 0.0003876 , 0.0005272 ]),\n",
       "  'rank_test_score': array([5, 4, 3, 2, 1])},\n",
       " {'min_child_weight': 10},\n",
       " 0.3534957474523461)"
      ]
     },
     "execution_count": 30,
     "metadata": {},
     "output_type": "execute_result"
    }
   ],
   "source": [
    "start = time.time()\n",
    "param_test11 = {\n",
    " 'min_child_weight':[0.001,0.01,0.1,1,10]\n",
    "}\n",
    "gsearch11 = GridSearchCV(estimator = LGBMClassifier(learning_rate =0.1,\n",
    "                                                    n_estimators=500, \n",
    "                                                   max_depth=-1,num_leaves =31,\n",
    "                                                   objective=\"multiclass\",\n",
    "                                                   min_child_weight=1, \n",
    "                                                   gamma=0.08, \n",
    "                                                   subsample=0.7,\n",
    "                                                   colsample_bytree=0.6, n_jobs = -1), \n",
    "param_grid = param_test11,iid=False, cv=5)\n",
    "gsearch11.fit(train_features,train_labels)\n",
    "print(time.time() - start)\n",
    "gsearch11.cv_results_, gsearch11.best_params_, gsearch11.best_score_"
   ]
  },
  {
   "cell_type": "markdown",
   "metadata": {},
   "source": [
    "- learning_rate : 학습속도 향상, 훈련시 학습 속도를 축소하기 위하여 사용\n",
    "- n_estimators : 트리의 수\n",
    "- max_depth : 최대 트리 깊이\n",
    "- num_leaves : 최대 나뭇잎\n",
    "- objective : 학습 목표 지정(회귀 / 분류)\n",
    "- min_child_weight : 가중치의 최소합계 (과적합을 막을 때 씀)\n",
    "- subsample : 훈련 인스턴스의 서브 샘플링 비율\n",
    "- colsample_bytree : 각 트리를 구성 할 떄의 열의 하위 샘플 비율\n",
    "- n_jobs :병렬 스레드 수\n"
   ]
  },
  {
   "cell_type": "markdown",
   "metadata": {},
   "source": [
    "데이터의 수가 많다보니 GridSearch의 param을 min_child_weight만 주고 실행을 함\n",
    "- 'min_child_weight':[0.001,0.01,0.1,1,10]으로 진행을 하였고 최적의 min_child_weight는 10이 출력됨"
   ]
  },
  {
   "cell_type": "code",
   "execution_count": 32,
   "metadata": {},
   "outputs": [
    {
     "data": {
      "text/plain": [
       "0.3534957474523461"
      ]
     },
     "execution_count": 32,
     "metadata": {},
     "output_type": "execute_result"
    }
   ],
   "source": [
    "gsearch11.best_score_"
   ]
  },
  {
   "cell_type": "markdown",
   "metadata": {},
   "source": [
    "GridSearch를 했을 때 best_score는 0.3534,"
   ]
  },
  {
   "cell_type": "code",
   "execution_count": 202,
   "metadata": {},
   "outputs": [],
   "source": [
    "lgb_clf = LGBMClassifier(learning_rate =0.1,n_estimators=500, \n",
    "               max_depth=-1,num_leaves =31,\n",
    "               objective=\"multiclass\", min_child_weight=10, \n",
    "               gamma=0.08, subsample=0.7, colsample_bytree=0.6, n_jobs = -1)"
   ]
  },
  {
   "cell_type": "code",
   "execution_count": 203,
   "metadata": {},
   "outputs": [
    {
     "data": {
      "text/plain": [
       "LGBMClassifier(boosting_type='gbdt', class_weight=None, colsample_bytree=0.6,\n",
       "               gamma=0.08, importance_type='split', learning_rate=0.1,\n",
       "               max_depth=-1, min_child_samples=20, min_child_weight=10,\n",
       "               min_split_gain=0.0, n_estimators=500, n_jobs=-1, num_leaves=31,\n",
       "               objective='multiclass', random_state=None, reg_alpha=0.0,\n",
       "               reg_lambda=0.0, silent=True, subsample=0.7,\n",
       "               subsample_for_bin=200000, subsample_freq=0)"
      ]
     },
     "execution_count": 203,
     "metadata": {},
     "output_type": "execute_result"
    }
   ],
   "source": [
    "lgb_clf.fit(train_features, train_labels)"
   ]
  },
  {
   "cell_type": "markdown",
   "metadata": {},
   "source": [
    "GridSearch를 한 결과를 가지고 train데이터에 학습"
   ]
  },
  {
   "cell_type": "code",
   "execution_count": 204,
   "metadata": {},
   "outputs": [
    {
     "name": "stdout",
     "output_type": "stream",
     "text": [
      "Train Accuracy : 0.377\n",
      "Test Accuracy : 0.355\n"
     ]
    }
   ],
   "source": [
    "print (\"Train Accuracy : {:.3f}\".format(lgb_clf.score(train_features, train_labels)))\n",
    "print (\"Test Accuracy : {:.3f}\".format(lgb_clf.score(test_features, test_labels)))"
   ]
  },
  {
   "cell_type": "code",
   "execution_count": 205,
   "metadata": {},
   "outputs": [
    {
     "name": "stderr",
     "output_type": "stream",
     "text": [
      "C:\\Users\\CPB06GameN\\anaconda3\\lib\\site-packages\\sklearn\\metrics\\_classification.py:1272: UndefinedMetricWarning: Precision and F-score are ill-defined and being set to 0.0 in labels with no predicted samples. Use `zero_division` parameter to control this behavior.\n",
      "  _warn_prf(average, modifier, msg_start, len(result))\n"
     ]
    },
    {
     "name": "stdout",
     "output_type": "stream",
     "text": [
      "              precision    recall  f1-score   support\n",
      "\n",
      "           0       0.10      0.01      0.02       380\n",
      "           1       0.22      0.20      0.21     19183\n",
      "           2       0.00      0.00      0.00       100\n",
      "           3       0.00      0.00      0.00        63\n",
      "           4       0.27      0.08      0.12      9109\n",
      "           5       0.16      0.04      0.07      1038\n",
      "           6       0.06      0.00      0.01       593\n",
      "           7       0.39      0.47      0.43     13506\n",
      "           8       0.14      0.01      0.02      1105\n",
      "           9       0.12      0.01      0.02       295\n",
      "          10       0.00      0.00      0.00        55\n",
      "          11       0.24      0.07      0.11       115\n",
      "          12       0.23      0.09      0.13      2648\n",
      "          13       0.26      0.02      0.04      4082\n",
      "          14       0.00      0.00      0.00        41\n",
      "          15       0.00      0.00      0.00       616\n",
      "          16       0.38      0.82      0.52     43509\n",
      "          17       0.38      0.05      0.08       480\n",
      "          18       0.54      0.19      0.29       331\n",
      "          19       0.44      0.46      0.45      6543\n",
      "          20       0.29      0.19      0.23     23133\n",
      "          21       0.37      0.52      0.43     31681\n",
      "          22       0.00      0.00      0.00         1\n",
      "          23       0.59      0.76      0.66      1819\n",
      "          24       0.13      0.05      0.07       795\n",
      "          25       0.26      0.08      0.12      5696\n",
      "          26       0.50      0.26      0.35       484\n",
      "          27       0.16      0.00      0.01      2461\n",
      "          28       0.19      0.01      0.02      1104\n",
      "          29       0.00      0.00      0.00        37\n",
      "          30       0.00      0.00      0.00      1118\n",
      "          31       0.17      0.02      0.03       132\n",
      "          32       0.20      0.01      0.02      7971\n",
      "          33       0.00      0.00      0.00         2\n",
      "          34       0.17      0.03      0.05      1855\n",
      "          35       0.23      0.03      0.05     11214\n",
      "          36       0.33      0.28      0.30     13491\n",
      "          37       0.24      0.06      0.10     10552\n",
      "          38       0.27      0.01      0.01      2158\n",
      "\n",
      "    accuracy                           0.35    219496\n",
      "   macro avg       0.21      0.12      0.13    219496\n",
      "weighted avg       0.31      0.35      0.29    219496\n",
      "\n"
     ]
    }
   ],
   "source": [
    "pred_lgb = lgb_clf.predict(test_features)\n",
    "print(classification_report(test_labels,pred_lgb))"
   ]
  },
  {
   "cell_type": "markdown",
   "metadata": {},
   "source": [
    "그 결과 모델이 예측한 값과 실제값을 비교한 결과 \n",
    " - accuracy : 0.35"
   ]
  },
  {
   "cell_type": "markdown",
   "metadata": {},
   "source": [
    "### Lightgbm_ feature importance"
   ]
  },
  {
   "cell_type": "code",
   "execution_count": 113,
   "metadata": {},
   "outputs": [
    {
     "data": {
      "text/plain": [
       "25"
      ]
     },
     "execution_count": 113,
     "metadata": {},
     "output_type": "execute_result"
    }
   ],
   "source": [
    "len(X_dummies.columns)"
   ]
  },
  {
   "cell_type": "code",
   "execution_count": 114,
   "metadata": {},
   "outputs": [
    {
     "data": {
      "text/plain": [
       "25"
      ]
     },
     "execution_count": 114,
     "metadata": {},
     "output_type": "execute_result"
    }
   ],
   "source": [
    "len(lgb_clf.feature_importances_)"
   ]
  },
  {
   "cell_type": "code",
   "execution_count": 117,
   "metadata": {},
   "outputs": [
    {
     "data": {
      "text/plain": [
       "array([ 0,  1,  5,  4,  2,  3,  7,  6, 10, 11,  8, 13, 12, 14,  9, 22, 18,\n",
       "       19, 24, 17, 15, 16, 20, 23, 21], dtype=int64)"
      ]
     },
     "execution_count": 117,
     "metadata": {},
     "output_type": "execute_result"
    }
   ],
   "source": [
    "np.argsort(lgb_clf.feature_importances_)[::-1]"
   ]
  },
  {
   "cell_type": "code",
   "execution_count": 120,
   "metadata": {},
   "outputs": [
    {
     "data": {
      "text/plain": [
       "Index(['X', 'Y', 'Minute', 'Hour', 'Year', 'Month', 'Solution', 'Block',\n",
       "       'DayOfWeek_Saturday', 'DayOfWeek_Sunday'],\n",
       "      dtype='object')"
      ]
     },
     "execution_count": 120,
     "metadata": {},
     "output_type": "execute_result"
    }
   ],
   "source": [
    "X_dummies.columns[np.argsort(lgb_clf.feature_importances_)[::-1]][:10]"
   ]
  },
  {
   "cell_type": "code",
   "execution_count": 129,
   "metadata": {},
   "outputs": [
    {
     "name": "stdout",
     "output_type": "stream",
     "text": [
      "Plot feature importances...\n"
     ]
    },
    {
     "data": {
      "image/png": "[encoded data removed]",
      "text/plain": [
       "<Figure size 432x288 with 1 Axes>"
      ]
     },
     "metadata": {
      "needs_background": "light"
     },
     "output_type": "display_data"
    }
   ],
   "source": [
    "import matplotlib.pyplot as plt\n",
    "fig, ax = plt.subplots()\n",
    "from lightgbm import plot_importance\n",
    "print('Plot feature importances...')\n",
    "plot_importance(lgb_clf, max_num_features=10, ax=ax)\n",
    "ax.set_yticklabels(X_dummies.columns[np.argsort(lgb_clf.feature_importances_)[::-1]][:10])\n",
    "plt.show()"
   ]
  },
  {
   "cell_type": "markdown",
   "metadata": {},
   "source": [
    "lightgbm모델의 feature importances 결과\n",
    " - DayOfWeek_Sunday와 DayOfWeek_Saturday가 중요한 특성으로 나타났으며\n",
    " - 새로 추가한 변수인 Block과 Solution 또한 중요한 특성으로 나타남"
   ]
  },
  {
   "cell_type": "markdown",
   "metadata": {},
   "source": [
    "## CatBoostClassifier"
   ]
  },
  {
   "cell_type": "markdown",
   "metadata": {},
   "source": [
    "GBM(Gradient Boost Machine) 기반\n",
    "- 균형트리분할(Level Wise) 방식\n",
    "- Orderd Boosting 방식\n",
    "\n",
    "장점\n",
    "- GPU속도가 가장 빠름\n",
    "- 예측시간 감소\n",
    "- 파라미터에 영향을 크게 받지 않음\n",
    "\n",
    "단점\n",
    "- Sparse 한 Matrix 는 처리하지 못함\n",
    "- 데이터 대부분이 수치형 변수인 경우 Lightgbm보다 학습 속도가 느림\n"
   ]
  },
  {
   "cell_type": "code",
   "execution_count": 162,
   "metadata": {},
   "outputs": [],
   "source": [
    "cbc_clf = catboost.CatBoostClassifier(\n",
    "    random_seed=0,\n",
    "    iterations=1000,\n",
    "    learning_rate=0.03,\n",
    "    l2_leaf_reg=3,\n",
    "    bagging_temperature=1,\n",
    "    random_strength=1,\n",
    "    one_hot_max_size=2,\n",
    "    leaf_estimation_method='Newton',\n",
    "    task_type=\"GPU\",\n",
    "    verbose=50\n",
    ")"
   ]
  },
  {
   "cell_type": "code",
   "execution_count": 163,
   "metadata": {},
   "outputs": [
    {
     "name": "stdout",
     "output_type": "stream",
     "text": [
      "0:\tlearn: 3.5085754\ttest: 3.5087556\tbest: 3.5087556 (0)\ttotal: 196ms\tremaining: 3m 15s\n",
      "50:\tlearn: 2.3801803\ttest: 2.3829687\tbest: 2.3829687 (50)\ttotal: 9.22s\tremaining: 2m 51s\n",
      "100:\tlearn: 2.2617313\ttest: 2.2664626\tbest: 2.2664626 (100)\ttotal: 18.1s\tremaining: 2m 40s\n",
      "150:\tlearn: 2.2268368\ttest: 2.2331475\tbest: 2.2331475 (150)\ttotal: 26.9s\tremaining: 2m 30s\n",
      "200:\tlearn: 2.2080935\ttest: 2.2158784\tbest: 2.2158784 (200)\ttotal: 35.7s\tremaining: 2m 21s\n",
      "250:\tlearn: 2.1941082\ttest: 2.2033287\tbest: 2.2033287 (250)\ttotal: 44.6s\tremaining: 2m 12s\n",
      "300:\tlearn: 2.1833799\ttest: 2.1940860\tbest: 2.1940860 (300)\ttotal: 53.7s\tremaining: 2m 4s\n",
      "350:\tlearn: 2.1745185\ttest: 2.1867010\tbest: 2.1867010 (350)\ttotal: 1m 2s\tremaining: 1m 55s\n",
      "400:\tlearn: 2.1671879\ttest: 2.1808850\tbest: 2.1808850 (400)\ttotal: 1m 11s\tremaining: 1m 46s\n",
      "450:\tlearn: 2.1608481\ttest: 2.1758335\tbest: 2.1758335 (450)\ttotal: 1m 20s\tremaining: 1m 37s\n",
      "500:\tlearn: 2.1548026\ttest: 2.1710847\tbest: 2.1710847 (500)\ttotal: 1m 28s\tremaining: 1m 28s\n",
      "550:\tlearn: 2.1495833\ttest: 2.1672015\tbest: 2.1672015 (550)\ttotal: 1m 37s\tremaining: 1m 19s\n",
      "600:\tlearn: 2.1445450\ttest: 2.1633895\tbest: 2.1633895 (600)\ttotal: 1m 46s\tremaining: 1m 10s\n",
      "650:\tlearn: 2.1401668\ttest: 2.1603079\tbest: 2.1603079 (650)\ttotal: 1m 55s\tremaining: 1m 1s\n",
      "700:\tlearn: 2.1359581\ttest: 2.1572168\tbest: 2.1572168 (700)\ttotal: 2m 4s\tremaining: 53s\n",
      "750:\tlearn: 2.1319814\ttest: 2.1544725\tbest: 2.1544725 (750)\ttotal: 2m 12s\tremaining: 44.1s\n",
      "800:\tlearn: 2.1281048\ttest: 2.1518963\tbest: 2.1518963 (800)\ttotal: 2m 21s\tremaining: 35.2s\n",
      "850:\tlearn: 2.1245342\ttest: 2.1495511\tbest: 2.1495511 (850)\ttotal: 2m 30s\tremaining: 26.4s\n",
      "900:\tlearn: 2.1210115\ttest: 2.1472357\tbest: 2.1472357 (900)\ttotal: 2m 39s\tremaining: 17.5s\n",
      "950:\tlearn: 2.1176798\ttest: 2.1450750\tbest: 2.1450750 (950)\ttotal: 2m 48s\tremaining: 8.67s\n",
      "999:\tlearn: 2.1143847\ttest: 2.1430393\tbest: 2.1430393 (999)\ttotal: 2m 56s\tremaining: 0us\n",
      "bestTest = 2.143039338\n",
      "bestIteration = 999\n"
     ]
    },
    {
     "data": {
      "text/plain": [
       "<catboost.core.CatBoostClassifier at 0x1a745485d88>"
      ]
     },
     "execution_count": 163,
     "metadata": {},
     "output_type": "execute_result"
    }
   ],
   "source": [
    "cbc_clf.fit(train_features, train_labels, eval_set= (test_features,test_labels))"
   ]
  },
  {
   "cell_type": "code",
   "execution_count": 164,
   "metadata": {},
   "outputs": [
    {
     "name": "stdout",
     "output_type": "stream",
     "text": [
      "Train Accuracy : 0.343\n",
      "Test Accuracy : 0.338\n"
     ]
    }
   ],
   "source": [
    "print (\"Train Accuracy : {:.3f}\".format(cbc_clf.score(train_features, train_labels)))\n",
    "print (\"Test Accuracy : {:.3f}\".format(cbc_clf.score(test_features, test_labels)))"
   ]
  },
  {
   "cell_type": "code",
   "execution_count": 165,
   "metadata": {},
   "outputs": [
    {
     "name": "stderr",
     "output_type": "stream",
     "text": [
      "C:\\Users\\CPB06GameN\\anaconda3\\lib\\site-packages\\sklearn\\metrics\\_classification.py:1272: UndefinedMetricWarning: Precision and F-score are ill-defined and being set to 0.0 in labels with no predicted samples. Use `zero_division` parameter to control this behavior.\n",
      "  _warn_prf(average, modifier, msg_start, len(result))\n"
     ]
    },
    {
     "name": "stdout",
     "output_type": "stream",
     "text": [
      "              precision    recall  f1-score   support\n",
      "\n",
      "           0       0.00      0.00      0.00       380\n",
      "           1       0.21      0.18      0.19     19183\n",
      "           2       0.00      0.00      0.00       100\n",
      "           3       0.00      0.00      0.00        63\n",
      "           4       0.23      0.04      0.07      9109\n",
      "           5       0.25      0.04      0.07      1038\n",
      "           6       0.00      0.00      0.00       593\n",
      "           7       0.37      0.43      0.40     13506\n",
      "           8       0.00      0.00      0.00      1105\n",
      "           9       0.00      0.00      0.00       295\n",
      "          10       0.00      0.00      0.00        55\n",
      "          11       0.00      0.00      0.00       115\n",
      "          12       0.22      0.04      0.07      2648\n",
      "          13       0.24      0.01      0.01      4082\n",
      "          14       0.00      0.00      0.00        41\n",
      "          15       0.00      0.00      0.00       616\n",
      "          16       0.36      0.83      0.50     43509\n",
      "          17       1.00      0.00      0.00       480\n",
      "          18       0.77      0.03      0.06       331\n",
      "          19       0.35      0.40      0.38      6543\n",
      "          20       0.26      0.14      0.19     23133\n",
      "          21       0.36      0.53      0.43     31681\n",
      "          22       0.00      0.00      0.00         1\n",
      "          23       0.56      0.66      0.61      1819\n",
      "          24       0.23      0.01      0.02       795\n",
      "          25       0.25      0.07      0.10      5696\n",
      "          26       0.50      0.08      0.14       484\n",
      "          27       0.00      0.00      0.00      2461\n",
      "          28       0.00      0.00      0.00      1104\n",
      "          29       0.00      0.00      0.00        37\n",
      "          30       0.00      0.00      0.00      1118\n",
      "          31       0.30      0.02      0.04       132\n",
      "          32       0.26      0.00      0.00      7971\n",
      "          33       0.00      0.00      0.00         2\n",
      "          34       0.28      0.01      0.02      1855\n",
      "          35       0.21      0.02      0.03     11214\n",
      "          36       0.30      0.24      0.27     13491\n",
      "          37       0.24      0.03      0.06     10552\n",
      "          38       0.00      0.00      0.00      2158\n",
      "\n",
      "    accuracy                           0.34    219496\n",
      "   macro avg       0.20      0.10      0.09    219496\n",
      "weighted avg       0.29      0.34      0.27    219496\n",
      "\n"
     ]
    }
   ],
   "source": [
    "pred_cbc = cbc_clf.predict(test_features)\n",
    "print(classification_report(test_labels,pred_cbc))"
   ]
  },
  {
   "cell_type": "markdown",
   "metadata": {},
   "source": [
    "그 결과 모델이 예측한 값과 실제값을 비교한 결과 \n",
    " - accuracy : 0.34"
   ]
  },
  {
   "cell_type": "markdown",
   "metadata": {},
   "source": [
    "### catboost_  feature importances"
   ]
  },
  {
   "cell_type": "code",
   "execution_count": 166,
   "metadata": {},
   "outputs": [
    {
     "data": {
      "text/plain": [
       "array([12.9215335 , 15.32752003,  8.19036702,  1.26736152,  9.58687124,\n",
       "       12.2724902 ,  8.28133882, 22.62412781,  0.29611283,  0.09592275,\n",
       "        0.70698197,  0.8254893 ,  0.1058405 ,  0.08313576,  0.33849455,\n",
       "        0.20996979,  0.39691711,  0.2325933 ,  1.74738859,  0.8732543 ,\n",
       "        0.70378737,  0.10182338,  1.1762929 ,  0.20636095,  1.42802451])"
      ]
     },
     "execution_count": 166,
     "metadata": {},
     "output_type": "execute_result"
    }
   ],
   "source": [
    "cbc_clf.feature_importances_"
   ]
  },
  {
   "cell_type": "code",
   "execution_count": 167,
   "metadata": {},
   "outputs": [
    {
     "data": {
      "image/png": "[encoded data removed]",
      "text/plain": [
       "<Figure size 720x504 with 1 Axes>"
      ]
     },
     "metadata": {
      "needs_background": "light"
     },
     "output_type": "display_data"
    }
   ],
   "source": [
    "fea_imp = pd.DataFrame({'imp': cbc_clf.feature_importances_, 'col': X_dummies.columns})\n",
    "fea_imp = fea_imp.sort_values(['imp', 'col'], ascending=[True, False]).iloc[-30:]\n",
    "fea_imp.plot(kind='barh', x='col', y='imp', figsize=(10, 7), legend=None)\n",
    "plt.title('Feature Importance')\n",
    "plt.ylabel('Features')\n",
    "plt.xlabel('Importance');"
   ]
  },
  {
   "cell_type": "markdown",
   "metadata": {},
   "source": [
    "- Catboost에서는 lightgbm과 다르게 Solution이 제일 중요한 변수로 작용을 하였고 \n",
    "- 그 다음으로 Y(위도), X(경도), Minute(분)이 중요한 변수로 작용을 하였음"
   ]
  },
  {
   "cell_type": "markdown",
   "metadata": {},
   "source": [
    "## Deep Learning"
   ]
  },
  {
   "cell_type": "code",
   "execution_count": 169,
   "metadata": {},
   "outputs": [
    {
     "name": "stderr",
     "output_type": "stream",
     "text": [
      "C:\\Users\\CPB06GameN\\anaconda3\\lib\\site-packages\\sklearn\\preprocessing\\_label.py:235: DataConversionWarning: A column-vector y was passed when a 1d array was expected. Please change the shape of y to (n_samples, ), for example using ravel().\n",
      "  y = column_or_1d(y, warn=True)\n",
      "C:\\Users\\CPB06GameN\\anaconda3\\lib\\site-packages\\sklearn\\preprocessing\\_label.py:268: DataConversionWarning: A column-vector y was passed when a 1d array was expected. Please change the shape of y to (n_samples, ), for example using ravel().\n",
      "  y = column_or_1d(y, warn=True)\n"
     ]
    }
   ],
   "source": [
    "encoder = LabelEncoder()\n",
    "encoder.fit(y_train)\n",
    "encoded_y_train = encoder.transform(y_train)\n",
    "encoder.fit(y_test)\n",
    "encoded_y_test = encoder.transform(y_test)"
   ]
  },
  {
   "cell_type": "code",
   "execution_count": 170,
   "metadata": {},
   "outputs": [],
   "source": [
    "one_hot_y_train  = np_utils.to_categorical(encoded_y_train)\n",
    "one_hot_y_test = np_utils.to_categorical(encoded_y_test)"
   ]
  },
  {
   "cell_type": "code",
   "execution_count": 171,
   "metadata": {},
   "outputs": [
    {
     "data": {
      "text/plain": [
       "array([[0., 0., 0., ..., 0., 0., 0.],\n",
       "       [0., 0., 0., ..., 0., 0., 0.],\n",
       "       [0., 0., 0., ..., 0., 0., 0.],\n",
       "       ...,\n",
       "       [0., 0., 0., ..., 0., 0., 0.],\n",
       "       [0., 0., 0., ..., 0., 0., 0.],\n",
       "       [0., 0., 0., ..., 0., 0., 0.]], dtype=float32)"
      ]
     },
     "execution_count": 171,
     "metadata": {},
     "output_type": "execute_result"
    }
   ],
   "source": [
    "one_hot_y_test"
   ]
  },
  {
   "cell_type": "markdown",
   "metadata": {},
   "source": [
    "Deep Learning을 진행하기 위해서 y값을 one-hot-encoding을 사용하였음"
   ]
  },
  {
   "cell_type": "markdown",
   "metadata": {},
   "source": [
    " 최적의 model, parameter, validation score, step을 구할 수 있는 GridSearch를 사용"
   ]
  },
  {
   "cell_type": "code",
   "execution_count": 174,
   "metadata": {},
   "outputs": [],
   "source": [
    "def tuning_model(layers=(64,), dropRate=.5, lr=.001, alpha=.01, \n",
    "                 input_shape=(25,)):\n",
    "    # default lr=.001, L2alpha=.01\n",
    "    import keras\n",
    "    from keras.models import Sequential\n",
    "    from keras.layers import Dense, Dropout\n",
    "    from keras.regularizers import l2\n",
    "    from keras.optimizers import rmsprop\n",
    "    m = Sequential()\n",
    "    for i in range(len(layers)):\n",
    "        if i == 0:\n",
    "            m.add(Dense(layers[i], activation='relu',\n",
    "                               kernel_regularizer = l2(alpha), \n",
    "                               input_shape=input_shape))\n",
    "        else:\n",
    "            m.add(Dense(layers[i], activation='relu', \n",
    "                               kernel_regularizer = l2(alpha)))\n",
    "        if dropRate: m.add(Dropout(dropRate))\n",
    "    m.add(Dense(39, activation='softmax'))\n",
    "    m.compile(optimizer=rmsprop(lr=lr),loss='categorical_crossentropy',\n",
    "              metrics=['acc'])\n",
    "    return m"
   ]
  },
  {
   "cell_type": "code",
   "execution_count": 185,
   "metadata": {},
   "outputs": [
    {
     "name": "stdout",
     "output_type": "stream",
     "text": [
      "lr = 0.0100, alpha = 0.0100 : best val score = 0.29108, best step = 11\n",
      "lr = 0.0100, alpha = 0.0050 : best val score = 0.29099, best step = 7\n",
      "lr = 0.0100, alpha = 0.0010 : best val score = 0.29314, best step = 8\n",
      "lr = 0.0100, alpha = 0.0005 : best val score = 0.29334, best step = 3\n",
      "lr = 0.0050, alpha = 0.0100 : best val score = 0.29194, best step = 10\n",
      "lr = 0.0050, alpha = 0.0050 : best val score = 0.29369, best step = 13\n",
      "lr = 0.0050, alpha = 0.0010 : best val score = 0.29421, best step = 9\n",
      "lr = 0.0050, alpha = 0.0005 : best val score = 0.29560, best step = 4\n",
      "lr = 0.0010, alpha = 0.0100 : best val score = 0.29313, best step = 17\n",
      "lr = 0.0010, alpha = 0.0050 : best val score = 0.29421, best step = 18\n",
      "lr = 0.0010, alpha = 0.0010 : best val score = 0.29631, best step = 18\n",
      "lr = 0.0010, alpha = 0.0005 : best val score = 0.29645, best step = 19\n",
      "lr = 0.0005, alpha = 0.0100 : best val score = 0.29199, best step = 18\n",
      "lr = 0.0005, alpha = 0.0050 : best val score = 0.29207, best step = 17\n",
      "lr = 0.0005, alpha = 0.0010 : best val score = 0.29298, best step = 19\n",
      "lr = 0.0005, alpha = 0.0005 : best val score = 0.29508, best step = 19\n"
     ]
    }
   ],
   "source": [
    "import numpy as np\n",
    "best_m, best_params, best_val_score, best_step = None, {}, 0, 0\n",
    "for lr in [0.01, 0.005, 0.001, 0.0005]:\n",
    "    for a in [0.01, 0.005, 0.001, 0.0005]:\n",
    "        m = tuning_model(lr=lr, alpha=a)\n",
    "        h = m.fit(X_train_scaled, one_hot_y_train, epochs=20, verbose=0,\n",
    "                  batch_size=512, validation_split=.2)\n",
    "        maxidx = np.array(h.history['val_acc']).argmax()\n",
    "        prtstr = \"lr = %.4f, alpha = %.4f : best val score = %.5f, best step = %d\"\n",
    "        print(prtstr %(lr, a, h.history['val_acc'][maxidx], maxidx))\n",
    "        if h.history['val_acc'][maxidx] > best_val_score:\n",
    "            best_m, best_step = m, maxidx\n",
    "            best_params['lr'], best_params['alpha'] = lr, a\n",
    "            best_val_score = h.history['val_acc'][maxidx]"
   ]
  },
  {
   "cell_type": "code",
   "execution_count": 188,
   "metadata": {},
   "outputs": [
    {
     "name": "stdout",
     "output_type": "stream",
     "text": [
      "_________________________________________________________________\n",
      "Layer (type)                 Output Shape              Param #   \n",
      "=================================================================\n",
      "dense_93 (Dense)             (None, 64)                1664      \n",
      "_________________________________________________________________\n",
      "dropout_35 (Dropout)         (None, 64)                0         \n",
      "_________________________________________________________________\n",
      "dense_94 (Dense)             (None, 39)                2535      \n",
      "=================================================================\n",
      "Total params: 4,199\n",
      "Trainable params: 4,199\n",
      "Non-trainable params: 0\n",
      "_________________________________________________________________\n"
     ]
    }
   ],
   "source": [
    "m.summary()"
   ]
  },
  {
   "cell_type": "code",
   "execution_count": 189,
   "metadata": {},
   "outputs": [
    {
     "name": "stdout",
     "output_type": "stream",
     "text": [
      "{'lr': 0.001, 'alpha': 0.0005}\n",
      "best val accuracy= 0.29645, best step= 19\n"
     ]
    }
   ],
   "source": [
    "print(best_params)\n",
    "print('best val accuracy= %.5f, best step= %d' %(best_val_score, best_step))"
   ]
  },
  {
   "cell_type": "markdown",
   "metadata": {},
   "source": [
    "- learning rate : 학습속도 향상, 훈련시 학습 속도를 축소하기 위하여 사용\n",
    "- alpha : 가속도의 역할"
   ]
  },
  {
   "cell_type": "markdown",
   "metadata": {},
   "source": [
    "- 최적의 파라미터 : {'lr': 0.005, 'alpha': 0.001} \n",
    "- best validation accuracy= 0.29645 \n",
    "- best step= 19"
   ]
  },
  {
   "cell_type": "code",
   "execution_count": 190,
   "metadata": {},
   "outputs": [
    {
     "name": "stdout",
     "output_type": "stream",
     "text": [
      "Train on 658486 samples, validate on 219496 samples\n",
      "Epoch 1/19\n",
      "658486/658486 [==============================] - 6s 9us/step - loss: 2.4895 - acc: 0.2756 - val_loss: 2.3581 - val_acc: 0.2907\n",
      "Epoch 2/19\n",
      "658486/658486 [==============================] - 5s 8us/step - loss: 2.3848 - acc: 0.2899 - val_loss: 2.3451 - val_acc: 0.2911\n",
      "Epoch 3/19\n",
      "658486/658486 [==============================] - 6s 8us/step - loss: 2.3753 - acc: 0.2905 - val_loss: 2.3396 - val_acc: 0.2914\n",
      "Epoch 4/19\n",
      "658486/658486 [==============================] - 5s 8us/step - loss: 2.3691 - acc: 0.2906 - val_loss: 2.3352 - val_acc: 0.2913\n",
      "Epoch 5/19\n",
      "658486/658486 [==============================] - 5s 8us/step - loss: 2.3656 - acc: 0.2910 - val_loss: 2.3327 - val_acc: 0.2905\n",
      "Epoch 6/19\n",
      "658486/658486 [==============================] - 5s 8us/step - loss: 2.3621 - acc: 0.2913 - val_loss: 2.3290 - val_acc: 0.2924\n",
      "Epoch 7/19\n",
      "658486/658486 [==============================] - 6s 9us/step - loss: 2.3603 - acc: 0.2913 - val_loss: 2.3272 - val_acc: 0.2921\n",
      "Epoch 8/19\n",
      "658486/658486 [==============================] - 5s 8us/step - loss: 2.3582 - acc: 0.2916 - val_loss: 2.3249 - val_acc: 0.2938\n",
      "Epoch 9/19\n",
      "658486/658486 [==============================] - 5s 8us/step - loss: 2.3572 - acc: 0.2915 - val_loss: 2.3272 - val_acc: 0.2932\n",
      "Epoch 10/19\n",
      "658486/658486 [==============================] - 5s 8us/step - loss: 2.3564 - acc: 0.2917 - val_loss: 2.3242 - val_acc: 0.2931\n",
      "Epoch 11/19\n",
      "658486/658486 [==============================] - 5s 8us/step - loss: 2.3561 - acc: 0.2921 - val_loss: 2.3229 - val_acc: 0.2936\n",
      "Epoch 12/19\n",
      "658486/658486 [==============================] - 5s 8us/step - loss: 2.3560 - acc: 0.2921 - val_loss: 2.3220 - val_acc: 0.2945\n",
      "Epoch 13/19\n",
      "658486/658486 [==============================] - 5s 8us/step - loss: 2.3555 - acc: 0.2918 - val_loss: 2.3220 - val_acc: 0.2938\n",
      "Epoch 14/19\n",
      "658486/658486 [==============================] - 5s 8us/step - loss: 2.3556 - acc: 0.2922 - val_loss: 2.3228 - val_acc: 0.2936\n",
      "Epoch 15/19\n",
      "658486/658486 [==============================] - 5s 8us/step - loss: 2.3562 - acc: 0.2919 - val_loss: 2.3242 - val_acc: 0.2927\n",
      "Epoch 16/19\n",
      "658486/658486 [==============================] - 5s 8us/step - loss: 2.3567 - acc: 0.2919 - val_loss: 2.3226 - val_acc: 0.2947\n",
      "Epoch 17/19\n",
      "658486/658486 [==============================] - 5s 8us/step - loss: 2.3566 - acc: 0.2922 - val_loss: 2.3238 - val_acc: 0.2939\n",
      "Epoch 18/19\n",
      "658486/658486 [==============================] - 5s 8us/step - loss: 2.3570 - acc: 0.2924 - val_loss: 2.3255 - val_acc: 0.2926\n",
      "Epoch 19/19\n",
      "658486/658486 [==============================] - 5s 8us/step - loss: 2.3583 - acc: 0.2922 - val_loss: 2.3301 - val_acc: 0.2940\n"
     ]
    }
   ],
   "source": [
    "m = tuning_model(**best_params)\n",
    "history = m.fit(X_train_scaled, one_hot_y_train, epochs=best_step, batch_size=512, \n",
    "                validation_data=(X_test_scaled, one_hot_y_test))"
   ]
  },
  {
   "cell_type": "markdown",
   "metadata": {},
   "source": [
    "best_param을 넣고 tuning을 한 결과\n",
    "\n",
    "epoch가 16일 때, val_acc가 0.2947이고 그 이후로는 loss가 증가하고 val_acc가 떨어짐"
   ]
  },
  {
   "cell_type": "code",
   "execution_count": 191,
   "metadata": {},
   "outputs": [],
   "source": [
    "import pandas as pd\n",
    "acc = history.history['acc']\n",
    "val_acc = history.history['val_acc']\n",
    "loss = history.history['loss']\n",
    "val_loss = history.history['val_loss']"
   ]
  },
  {
   "cell_type": "code",
   "execution_count": 192,
   "metadata": {},
   "outputs": [],
   "source": [
    "import pandas as pd\n",
    "acc = history.history['acc']\n",
    "val_acc = history.history['val_acc']\n",
    "loss = history.history['loss']\n",
    "val_loss = history.history['val_loss']"
   ]
  },
  {
   "cell_type": "code",
   "execution_count": 193,
   "metadata": {},
   "outputs": [
    {
     "data": {
      "text/plain": [
       "<matplotlib.axes._subplots.AxesSubplot at 0x1a7fe57b4c8>"
      ]
     },
     "execution_count": 193,
     "metadata": {},
     "output_type": "execute_result"
    },
    {
     "data": {
      "image/png": "[encoded data removed]",
      "text/plain": [
       "<Figure size 432x288 with 1 Axes>"
      ]
     },
     "metadata": {
      "needs_background": "light"
     },
     "output_type": "display_data"
    }
   ],
   "source": [
    "pd.DataFrame({'loss':loss,\n",
    "             'val_loss':val_loss}).plot()"
   ]
  },
  {
   "cell_type": "markdown",
   "metadata": {},
   "source": [
    "loss와 val_loss에 대한 그래프 epoch 16을 기준으로 val_loss가 상승하는 것을 볼 수 있음"
   ]
  },
  {
   "cell_type": "code",
   "execution_count": 194,
   "metadata": {},
   "outputs": [
    {
     "data": {
      "text/plain": [
       "<matplotlib.axes._subplots.AxesSubplot at 0x1a8e60239c8>"
      ]
     },
     "execution_count": 194,
     "metadata": {},
     "output_type": "execute_result"
    },
    {
     "data": {
      "image/png": "[encoded data removed]",
      "text/plain": [
       "<Figure size 432x288 with 1 Axes>"
      ]
     },
     "metadata": {
      "needs_background": "light"
     },
     "output_type": "display_data"
    }
   ],
   "source": [
    "pd.DataFrame({'acc':acc,\n",
    "             'val_acc':val_acc}).plot()"
   ]
  },
  {
   "cell_type": "markdown",
   "metadata": {},
   "source": [
    "val_acc도 epoch 16에서 최고로 상승"
   ]
  },
  {
   "cell_type": "code",
   "execution_count": 195,
   "metadata": {},
   "outputs": [],
   "source": [
    "def grid_search(paramgrids, trainset, testset, modelf=tuning_model,\n",
    "                   epoch=20, batch=512, val_split=.2):\n",
    "    import numpy as np\n",
    "    best = {}\n",
    "    best['model'],best['params'],best['score'],best['step'] = None,{},0,0\n",
    "    for params in retAllparams(paramgrids):\n",
    "        print(\"now trying params is\", params)\n",
    "        m = tuning_model(**params)\n",
    "        h = m.fit(*trainset, epochs=epoch, verbose=0,\n",
    "                  batch_size=batch, validation_split=val_split)\n",
    "        maxidx = np.array(h.history['val_acc']).argmax()\n",
    "        if h.history['val_acc'][maxidx] > best['score']:\n",
    "            prtstr = \"now best val score is %.5f at %d step\"\n",
    "            print(prtstr %(h.history['val_acc'][maxidx], maxidx))\n",
    "            best['step'], best['params'] = maxidx, params\n",
    "            best['score'] = h.history['val_acc'][maxidx]\n",
    "            \n",
    "    m = tuning_model(**best['params'])\n",
    "    h = m.fit(*trainset, epochs=best['step'], batch_size=batch,\n",
    "          validation_data = testset)\n",
    "    print('test score is', h.history['val_acc'][-1])\n",
    "    return m, h"
   ]
  },
  {
   "cell_type": "code",
   "execution_count": 196,
   "metadata": {},
   "outputs": [],
   "source": [
    "def retAllparams(d):\n",
    "    ret = []\n",
    "    for i, (k, vs) in enumerate(d.items()):\n",
    "        if i == 0:\n",
    "            for v in vs:\n",
    "                init = {}\n",
    "                init[k] = v\n",
    "                ret.append(init)\n",
    "        else:\n",
    "            subAll = []\n",
    "            for v in vs:\n",
    "                sub = []\n",
    "                for dct in ret:\n",
    "                    dt = dct.copy()\n",
    "                    dt[k] = v\n",
    "                    sub.append(dt)\n",
    "                subAll = subAll + sub\n",
    "            ret = subAll\n",
    "    return ret"
   ]
  },
  {
   "cell_type": "code",
   "execution_count": 197,
   "metadata": {},
   "outputs": [
    {
     "name": "stdout",
     "output_type": "stream",
     "text": [
      "now trying params is {'lr': 0.001, 'alpha': 0.0005}\n",
      "now best val score is 0.29653 at 17 step\n",
      "Train on 658486 samples, validate on 219496 samples\n",
      "Epoch 1/17\n",
      "658486/658486 [==============================] - 6s 10us/step - loss: 2.4921 - acc: 0.2736 - val_loss: 2.3568 - val_acc: 0.2905\n",
      "Epoch 2/17\n",
      "658486/658486 [==============================] - 5s 8us/step - loss: 2.3852 - acc: 0.2897 - val_loss: 2.3456 - val_acc: 0.2904\n",
      "Epoch 3/17\n",
      "658486/658486 [==============================] - 5s 8us/step - loss: 2.3752 - acc: 0.2898 - val_loss: 2.3389 - val_acc: 0.2905\n",
      "Epoch 4/17\n",
      "658486/658486 [==============================] - 5s 8us/step - loss: 2.3689 - acc: 0.2905 - val_loss: 2.3354 - val_acc: 0.2901\n",
      "Epoch 5/17\n",
      "658486/658486 [==============================] - 5s 8us/step - loss: 2.3657 - acc: 0.2903 - val_loss: 2.3323 - val_acc: 0.2912\n",
      "Epoch 6/17\n",
      "658486/658486 [==============================] - 5s 8us/step - loss: 2.3618 - acc: 0.2910 - val_loss: 2.3322 - val_acc: 0.2918\n",
      "Epoch 7/17\n",
      "658486/658486 [==============================] - 5s 8us/step - loss: 2.3606 - acc: 0.2912 - val_loss: 2.3269 - val_acc: 0.2931\n",
      "Epoch 8/17\n",
      "658486/658486 [==============================] - 5s 8us/step - loss: 2.3583 - acc: 0.2909 - val_loss: 2.3265 - val_acc: 0.2928\n",
      "Epoch 9/17\n",
      "658486/658486 [==============================] - 5s 8us/step - loss: 2.3579 - acc: 0.2914 - val_loss: 2.3245 - val_acc: 0.2936\n",
      "Epoch 10/17\n",
      "658486/658486 [==============================] - 5s 8us/step - loss: 2.3565 - acc: 0.2917 - val_loss: 2.3234 - val_acc: 0.2933\n",
      "Epoch 11/17\n",
      "658486/658486 [==============================] - 5s 8us/step - loss: 2.3563 - acc: 0.2916 - val_loss: 2.3239 - val_acc: 0.2926\n",
      "Epoch 12/17\n",
      "658486/658486 [==============================] - 5s 8us/step - loss: 2.3564 - acc: 0.2922 - val_loss: 2.3221 - val_acc: 0.2945\n",
      "Epoch 13/17\n",
      "658486/658486 [==============================] - 5s 8us/step - loss: 2.3565 - acc: 0.2918 - val_loss: 2.3233 - val_acc: 0.2928\n",
      "Epoch 14/17\n",
      "658486/658486 [==============================] - 5s 8us/step - loss: 2.3553 - acc: 0.2923 - val_loss: 2.3216 - val_acc: 0.2940\n",
      "Epoch 15/17\n",
      "658486/658486 [==============================] - 5s 8us/step - loss: 2.3557 - acc: 0.2922 - val_loss: 2.3228 - val_acc: 0.2944\n",
      "Epoch 16/17\n",
      "658486/658486 [==============================] - 5s 8us/step - loss: 2.3560 - acc: 0.2920 - val_loss: 2.3231 - val_acc: 0.2936\n",
      "Epoch 17/17\n",
      "658486/658486 [==============================] - 5s 8us/step - loss: 2.3560 - acc: 0.2922 - val_loss: 2.3226 - val_acc: 0.2939\n",
      "test score is 0.2938641250702688\n"
     ]
    }
   ],
   "source": [
    "paramgrids = {'lr': [0.001], 'alpha':[0.0005]}\n",
    "grid = grid_search(paramgrids, \n",
    "                   (X_train_scaled, one_hot_y_train), \n",
    "                   (X_test_scaled, one_hot_y_test))"
   ]
  },
  {
   "cell_type": "markdown",
   "metadata": {},
   "source": [
    "## layer 추가"
   ]
  },
  {
   "cell_type": "code",
   "execution_count": 198,
   "metadata": {},
   "outputs": [],
   "source": [
    "import keras\n",
    "from keras.models import Sequential\n",
    "from keras.layers import Flatten, Dense, Conv2D, MaxPool2D, Dropout\n",
    "from keras.optimizers import rmsprop\n",
    "from keras import regularizers"
   ]
  },
  {
   "cell_type": "code",
   "execution_count": 199,
   "metadata": {},
   "outputs": [
    {
     "name": "stdout",
     "output_type": "stream",
     "text": [
      "_________________________________________________________________\n",
      "Layer (type)                 Output Shape              Param #   \n",
      "=================================================================\n",
      "dense_101 (Dense)            (None, 512)               13312     \n",
      "_________________________________________________________________\n",
      "dropout_39 (Dropout)         (None, 512)               0         \n",
      "_________________________________________________________________\n",
      "dense_102 (Dense)            (None, 64)                32832     \n",
      "_________________________________________________________________\n",
      "dropout_40 (Dropout)         (None, 64)                0         \n",
      "_________________________________________________________________\n",
      "dense_103 (Dense)            (None, 64)                4160      \n",
      "_________________________________________________________________\n",
      "dropout_41 (Dropout)         (None, 64)                0         \n",
      "_________________________________________________________________\n",
      "dense_104 (Dense)            (None, 39)                2535      \n",
      "=================================================================\n",
      "Total params: 52,839\n",
      "Trainable params: 52,839\n",
      "Non-trainable params: 0\n",
      "_________________________________________________________________\n"
     ]
    }
   ],
   "source": [
    "m = Sequential()\n",
    "\n",
    "m.add(Dense(512, activation='relu', kernel_regularizer=regularizers.l2(0.0005), input_shape=(25, )))\n",
    "m.add(Dropout(0.5))\n",
    "m.add(Dense(64, activation='relu', kernel_regularizer=regularizers.l2(0.0005)))\n",
    "m.add(Dropout(0.5))\n",
    "m.add(Dense(64, activation='relu', kernel_regularizer=regularizers.l2(0.0005)))\n",
    "m.add(Dropout(0.5))\n",
    "m.add(Dense(39, activation='softmax'))\n",
    "\n",
    "m.compile(optimizer=rmsprop(lr=0.001),loss='categorical_crossentropy', metrics=['acc'])\n",
    "\n",
    "m.summary()"
   ]
  },
  {
   "cell_type": "markdown",
   "metadata": {},
   "source": [
    "dropout과 Dense를 추가해서 모델을 수정"
   ]
  },
  {
   "cell_type": "code",
   "execution_count": 200,
   "metadata": {},
   "outputs": [
    {
     "name": "stdout",
     "output_type": "stream",
     "text": [
      "Train on 658486 samples, validate on 219496 samples\n",
      "Epoch 1/19\n",
      "658486/658486 [==============================] - 8s 12us/step - loss: 2.5196 - acc: 0.2771 - val_loss: 2.3867 - val_acc: 0.2880\n",
      "Epoch 2/19\n",
      "658486/658486 [==============================] - 6s 10us/step - loss: 2.4208 - acc: 0.2864 - val_loss: 2.3769 - val_acc: 0.2877\n",
      "Epoch 3/19\n",
      "658486/658486 [==============================] - 6s 10us/step - loss: 2.4109 - acc: 0.2869 - val_loss: 2.3717 - val_acc: 0.2881\n",
      "Epoch 4/19\n",
      "658486/658486 [==============================] - 6s 10us/step - loss: 2.4059 - acc: 0.2868 - val_loss: 2.3663 - val_acc: 0.2880\n",
      "Epoch 5/19\n",
      "658486/658486 [==============================] - 6s 10us/step - loss: 2.4028 - acc: 0.2869 - val_loss: 2.3662 - val_acc: 0.2893\n",
      "Epoch 6/19\n",
      "658486/658486 [==============================] - 6s 10us/step - loss: 2.4004 - acc: 0.2874 - val_loss: 2.3629 - val_acc: 0.2903\n",
      "Epoch 7/19\n",
      "658486/658486 [==============================] - 6s 10us/step - loss: 2.3983 - acc: 0.2874 - val_loss: 2.3620 - val_acc: 0.2886\n",
      "Epoch 8/19\n",
      "658486/658486 [==============================] - 6s 10us/step - loss: 2.3969 - acc: 0.2877 - val_loss: 2.3591 - val_acc: 0.2923\n",
      "Epoch 9/19\n",
      "658486/658486 [==============================] - 6s 10us/step - loss: 2.3948 - acc: 0.2881 - val_loss: 2.3615 - val_acc: 0.2914\n",
      "Epoch 10/19\n",
      "658486/658486 [==============================] - 6s 10us/step - loss: 2.3938 - acc: 0.2881 - val_loss: 2.3605 - val_acc: 0.2901\n",
      "Epoch 11/19\n",
      "658486/658486 [==============================] - 6s 10us/step - loss: 2.3930 - acc: 0.2880 - val_loss: 2.3566 - val_acc: 0.2891\n",
      "Epoch 12/19\n",
      "658486/658486 [==============================] - 6s 10us/step - loss: 2.3921 - acc: 0.2886 - val_loss: 2.3546 - val_acc: 0.2926\n",
      "Epoch 13/19\n",
      "658486/658486 [==============================] - 6s 10us/step - loss: 2.3913 - acc: 0.2887 - val_loss: 2.3527 - val_acc: 0.2909\n",
      "Epoch 14/19\n",
      "658486/658486 [==============================] - 6s 10us/step - loss: 2.3912 - acc: 0.2885 - val_loss: 2.3575 - val_acc: 0.2906\n",
      "Epoch 15/19\n",
      "658486/658486 [==============================] - 7s 10us/step - loss: 2.3899 - acc: 0.2889 - val_loss: 2.3476 - val_acc: 0.2937\n",
      "Epoch 16/19\n",
      "658486/658486 [==============================] - 7s 10us/step - loss: 2.3896 - acc: 0.2886 - val_loss: 2.3507 - val_acc: 0.2904\n",
      "Epoch 17/19\n",
      "658486/658486 [==============================] - 7s 10us/step - loss: 2.3894 - acc: 0.2887 - val_loss: 2.3479 - val_acc: 0.2942\n",
      "Epoch 18/19\n",
      "658486/658486 [==============================] - 7s 10us/step - loss: 2.3888 - acc: 0.2891 - val_loss: 2.3524 - val_acc: 0.2917\n",
      "Epoch 19/19\n",
      "658486/658486 [==============================] - 7s 10us/step - loss: 2.3880 - acc: 0.2886 - val_loss: 2.3521 - val_acc: 0.2922\n"
     ]
    }
   ],
   "source": [
    "history = m.fit(X_train_scaled, one_hot_y_train, \n",
    "                epochs=best_step, batch_size=512, \n",
    "                validation_data=(X_test_scaled, one_hot_y_test))"
   ]
  },
  {
   "cell_type": "markdown",
   "metadata": {},
   "source": [
    "epoch가 17일때 val_acc가 0.2942로 최고 높음\n"
   ]
  },
  {
   "cell_type": "markdown",
   "metadata": {},
   "source": [
    "# XGBoost"
   ]
  },
  {
   "cell_type": "markdown",
   "metadata": {},
   "source": [
    "GBM(Gradient Boost Machine) 기반\n",
    "- 느린 수행시간 및 과적합 규제 부재 등의 문제 해결을 위해 개발한 알고리즘\n",
    "- 균형트리분할(Level Wise) 방식을 사용하여 최적화 된 결과를 얻는 알고리즘\n",
    "\n",
    "장점\n",
    "- 병렬 CPU 환경에서 병렬 학습이 가능해 기존 GBM보다 빠르게 학습\n",
    "- 분류에 있어서 예측 성능 높음\n",
    "\n",
    "단점\n",
    "- 과적합이 빠르게 되고 시간이 오래 걸림\n",
    "\n",
    "\n",
    "1. 뛰어난 예측성능\n",
    "2. GBM대비 빠른수행시간\n",
    "3. 과적합규제, Tree Pruning\n",
    "4. 자체내장된 교차검증, 결손 값 자체처리"
   ]
  },
  {
   "cell_type": "code",
   "execution_count": 40,
   "metadata": {},
   "outputs": [
    {
     "name": "stderr",
     "output_type": "stream",
     "text": [
      "C:\\Users\\CPB06GameN\\anaconda3\\lib\\site-packages\\sklearn\\preprocessing\\_label.py:235: DataConversionWarning: A column-vector y was passed when a 1d array was expected. Please change the shape of y to (n_samples, ), for example using ravel().\n",
      "  y = column_or_1d(y, warn=True)\n",
      "C:\\Users\\CPB06GameN\\anaconda3\\lib\\site-packages\\sklearn\\preprocessing\\_label.py:268: DataConversionWarning: A column-vector y was passed when a 1d array was expected. Please change the shape of y to (n_samples, ), for example using ravel().\n",
      "  y = column_or_1d(y, warn=True)\n"
     ]
    },
    {
     "name": "stdout",
     "output_type": "stream",
     "text": [
      "Training set score: 0.379\n",
      "Test set score: 0.347\n"
     ]
    }
   ],
   "source": [
    "from xgboost import XGBClassifier\n",
    "xgbrfr = XGBClassifier()\n",
    "xgbrfr.fit(X_train_scaled,y_train)\n",
    "y_pred = xgbrfr.predict(X_test_scaled)\n",
    "print(\"Training set score: {:.3f}\".format(xgbrfr.score(X_train_scaled, y_train)))\n",
    "print(\"Test set score: {:.3f}\".format(xgbrfr.score(X_test_scaled, y_test)))"
   ]
  },
  {
   "cell_type": "markdown",
   "metadata": {},
   "source": [
    "시간이 오래걸려서 default값으로만 진행\n",
    " - train accuracy : 0.379\n",
    " - Test accuracy : 0.349"
   ]
  },
  {
   "cell_type": "code",
   "execution_count": 44,
   "metadata": {},
   "outputs": [
    {
     "name": "stderr",
     "output_type": "stream",
     "text": [
      "C:\\Users\\CPB06GameN\\anaconda3\\lib\\site-packages\\sklearn\\metrics\\_classification.py:1272: UndefinedMetricWarning: Precision and F-score are ill-defined and being set to 0.0 in labels with no predicted samples. Use `zero_division` parameter to control this behavior.\n",
      "  _warn_prf(average, modifier, msg_start, len(result))\n"
     ]
    },
    {
     "name": "stdout",
     "output_type": "stream",
     "text": [
      "                             precision    recall  f1-score   support\n",
      "\n",
      "                      ARSON       0.15      0.02      0.03       380\n",
      "                    ASSAULT       0.22      0.19      0.20     19183\n",
      "                 BAD CHECKS       0.00      0.00      0.00       100\n",
      "                    BRIBERY       0.00      0.00      0.00        63\n",
      "                   BURGLARY       0.26      0.08      0.12      9109\n",
      "         DISORDERLY CONDUCT       0.20      0.05      0.09      1038\n",
      "DRIVING UNDER THE INFLUENCE       0.14      0.01      0.01       593\n",
      "              DRUG/NARCOTIC       0.39      0.46      0.42     13506\n",
      "                DRUNKENNESS       0.12      0.01      0.01      1105\n",
      "               EMBEZZLEMENT       0.00      0.00      0.00       295\n",
      "                  EXTORTION       0.00      0.00      0.00        55\n",
      "            FAMILY OFFENSES       0.25      0.01      0.02       115\n",
      "     FORGERY/COUNTERFEITING       0.22      0.07      0.11      2648\n",
      "                      FRAUD       0.23      0.03      0.05      4082\n",
      "                   GAMBLING       0.00      0.00      0.00        41\n",
      "                 KIDNAPPING       0.06      0.00      0.00       616\n",
      "              LARCENY/THEFT       0.38      0.80      0.51     43509\n",
      "                LIQUOR LAWS       0.31      0.03      0.06       480\n",
      "                  LOITERING       0.64      0.16      0.26       331\n",
      "             MISSING PERSON       0.40      0.37      0.39      6543\n",
      "               NON-CRIMINAL       0.27      0.19      0.22     23133\n",
      "             OTHER OFFENSES       0.37      0.52      0.43     31681\n",
      "    PORNOGRAPHY/OBSCENE MAT       0.00      0.00      0.00         1\n",
      "               PROSTITUTION       0.57      0.75      0.65      1819\n",
      "          RECOVERED VEHICLE       0.12      0.02      0.04       795\n",
      "                    ROBBERY       0.24      0.07      0.11      5696\n",
      "                    RUNAWAY       0.29      0.18      0.22       484\n",
      "            SECONDARY CODES       0.16      0.00      0.01      2461\n",
      "      SEX OFFENSES FORCIBLE       0.12      0.00      0.01      1104\n",
      "  SEX OFFENSES NON FORCIBLE       0.00      0.00      0.00        37\n",
      "            STOLEN PROPERTY       0.05      0.00      0.00      1118\n",
      "                    SUICIDE       0.00      0.00      0.00       132\n",
      "             SUSPICIOUS OCC       0.17      0.01      0.02      7971\n",
      "                       TREA       0.00      0.00      0.00         2\n",
      "                   TRESPASS       0.19      0.02      0.04      1855\n",
      "                  VANDALISM       0.20      0.03      0.06     11214\n",
      "              VEHICLE THEFT       0.32      0.29      0.31     13491\n",
      "                   WARRANTS       0.22      0.07      0.10     10552\n",
      "                WEAPON LAWS       0.17      0.01      0.01      2158\n",
      "\n",
      "                   accuracy                           0.35    219496\n",
      "                  macro avg       0.19      0.11      0.12    219496\n",
      "               weighted avg       0.30      0.35      0.29    219496\n",
      "\n"
     ]
    }
   ],
   "source": [
    "print(classification_report(y_test,y_pred))"
   ]
  },
  {
   "cell_type": "markdown",
   "metadata": {},
   "source": [
    "모델이 예측한 값과 실제값을 비교하였을 때, 0.35의 정확도를 보여준다."
   ]
  },
  {
   "cell_type": "markdown",
   "metadata": {},
   "source": [
    "# 최종 모델\n",
    "\n",
    "\n",
    "- LightGBM : 0.35\n",
    "- CatBoost : 0.34\n",
    "- Deep Learning : 0.29\n",
    "- XGBoost : 0.35\n",
    "\n",
    "\n",
    "시간과 정확도를 고려했을 때, LightGBM이 최종 모델"
   ]
  },
  {
   "cell_type": "markdown",
   "metadata": {},
   "source": [
    "이러한 모델을 좀 더 개발하여 정확도를 높이고 범죄 알림앱 서비스를 개발하여 사전에 범죄를 예방할 수 있을 것입니다.\n",
    "\n",
    "현재 미국에서는 다음과 같은 방식으로 활용을 하고 있습니다.\n",
    " - IBM의 Crush\n",
    " - 노스포인트 사의 Compas\n",
    " - Predpol\n",
    " - CrimeScan\n"
   ]
  },
  {
   "cell_type": "code",
   "execution_count": null,
   "metadata": {},
   "outputs": [],
   "source": []
  }
 ],
 "metadata": {
  "kernelspec": {
   "display_name": "Python 3",
   "language": "python",
   "name": "python3"
  },
  "language_info": {
   "codemirror_mode": {
    "name": "ipython",
    "version": 3
   },
   "file_extension": ".py",
   "mimetype": "text/x-python",
   "name": "python",
   "nbconvert_exporter": "python",
   "pygments_lexer": "ipython3",
   "version": "3.7.6"
  }
 },
 "nbformat": 4,
 "nbformat_minor": 4
}
